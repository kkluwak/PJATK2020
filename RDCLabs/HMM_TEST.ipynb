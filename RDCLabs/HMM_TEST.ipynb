{
 "cells": [
  {
   "cell_type": "markdown",
   "metadata": {},
   "source": [
    "Ukryte modele Markowa\n",
    "https://medium.com/analytics-vidhya/hmm-for-multidimensional-categorical-data-68b1091c9d66"
   ]
  },
  {
   "cell_type": "code",
   "execution_count": 1,
   "metadata": {},
   "outputs": [],
   "source": [
    "import numpy as np\n",
    "import matplotlib.pyplot as plt\n",
    "import scipy.signal as sig\n",
    "import pandas as pd\n",
    "\n",
    "from ezc3d import c3d\n",
    "from pyomeca import Analogs, Markers\n",
    "from pathlib import Path\n",
    "from math import sqrt\n",
    "from tqdm import tqdm\n",
    "\n",
    "\n",
    "import dataprocesing as dp"
   ]
  },
  {
   "cell_type": "code",
   "execution_count": 2,
   "metadata": {},
   "outputs": [],
   "source": [
    "data_path=r\"Z:\\baza\\2020-08-06-B0445-S01-E01-T01-K02.c3d\"\n",
    "\n",
    "markers_names=['B0445:LUPA','B0445:RWRA']\n",
    "\n",
    "markers=Markers.from_c3d(data_path, usecols=markers_names)"
   ]
  },
  {
   "cell_type": "code",
   "execution_count": 3,
   "metadata": {},
   "outputs": [],
   "source": [
    "from hmmlearn import hmm"
   ]
  },
  {
   "cell_type": "code",
   "execution_count": 4,
   "metadata": {},
   "outputs": [
    {
     "name": "stdout",
     "output_type": "stream",
     "text": [
      "<xarray.DataArray 'markers' (axis: 4, channel: 2, time: 361)>\n",
      "array([[[-6.83307373e+02, -6.84105591e+02, -6.84922058e+02, ...,\n",
      "         -6.00819031e+02, -5.99556824e+02, -5.98348022e+02],\n",
      "        [-2.14012421e+02, -2.14140884e+02, -2.14264771e+02, ...,\n",
      "         -1.88783081e+02, -1.88600006e+02, -1.88434067e+02]],\n",
      "\n",
      "       [[-2.51518921e+02, -2.50241302e+02, -2.48906998e+02, ...,\n",
      "         -2.07415512e+02, -2.06461365e+02, -2.05522919e+02],\n",
      "        [-3.06119141e+02, -3.02657898e+02, -2.99096252e+02, ...,\n",
      "         -3.90520172e+02, -3.91377228e+02, -3.92164581e+02]],\n",
      "\n",
      "       [[ 1.31926721e+03,  1.31964050e+03,  1.32002942e+03, ...,\n",
      "          1.30337354e+03,  1.30373279e+03,  1.30409521e+03],\n",
      "        [ 1.37926257e+03,  1.37985828e+03,  1.38050366e+03, ...,\n",
      "          1.31928870e+03,  1.31982031e+03,  1.32035034e+03]],\n",
      "\n",
      "       [[ 1.00000000e+00,  1.00000000e+00,  1.00000000e+00, ...,\n",
      "          1.00000000e+00,  1.00000000e+00,  1.00000000e+00],\n",
      "        [ 1.00000000e+00,  1.00000000e+00,  1.00000000e+00, ...,\n",
      "          1.00000000e+00,  1.00000000e+00,  1.00000000e+00]]])\n",
      "Coordinates:\n",
      "  * axis     (axis) <U4 'x' 'y' 'z' 'ones'\n",
      "  * channel  (channel) <U10 'B0445:LUPA' 'B0445:RWRA'\n",
      "  * time     (time) float64 0.0 0.005 0.01 0.015 0.02 ... 1.785 1.79 1.795 1.8\n",
      "Attributes:\n",
      "    first_frame:  0\n",
      "    last_frame:   360\n",
      "    rate:         200.0\n",
      "    units:        mm\n"
     ]
    }
   ],
   "source": [
    "print(markers)"
   ]
  },
  {
   "cell_type": "code",
   "execution_count": 5,
   "metadata": {},
   "outputs": [],
   "source": [
    "def read_labels_base(data_path,frame_rate):  \n",
    "\n",
    "    \"\"\"\n",
    "\n",
    "    Funkcja zwraca tablice [p, k], w której są zapisane czasy eventow oznaczających przyjecie postawy poczatkowej.\n",
    "\n",
    "\t\n",
    "\n",
    "\tInput:\n",
    "\n",
    "\t- data_path - sciezka do pliku c3d\n",
    "\n",
    "\t- frame_rate - częstotliwośc próbkowania danych w pliku\n",
    "\n",
    "\n",
    "\n",
    "\tOutput:\n",
    "\n",
    "    - [p,k] - tablice punktów startowych (s) i końcowych(k)\n",
    "\n",
    "\n",
    "    \"\"\"\n",
    "    c3d_to_compare= c3d(data_path)\n",
    "    event = c3d_to_compare['parameters']['EVENT']['LABELS']['value']\n",
    "    czas = np.around(c3d_to_compare['parameters']['EVENT']['TIMES']['value'][1]*frame_rate)\n",
    "    eventy = [event, czas]\n",
    "\n",
    "\n",
    "    eventy[0].index('Foot Strike')\n",
    "    indxFS = [i for i, x in enumerate(eventy[0]) if x == \"Foot Strike\"]\n",
    "    CzasFS = eventy[1][indxFS[0]]   \n",
    "    indxE = [i for i, x in enumerate(eventy[0]) if x == \"Event\"]\n",
    "    CzasE= eventy[1][indxE[0]]\n",
    "    \n",
    "    return CzasFS-CzasE"
   ]
  },
  {
   "cell_type": "code",
   "execution_count": 6,
   "metadata": {},
   "outputs": [],
   "source": [
    "event=read_labels_base(data_path,200)\n",
    "#print(event)"
   ]
  },
  {
   "cell_type": "code",
   "execution_count": 7,
   "metadata": {},
   "outputs": [],
   "source": [
    "data=[]\n",
    "for marker in range(len(markers_names)):\n",
    "    data.append([])\n",
    "    data[marker].append([markers[0][marker][0].values,markers[1][marker][0].values,markers[2][marker][0].values])\n",
    "    data[marker].append([markers[0][marker][event.astype(int)].values,markers[1][marker][event.astype(int)].values,markers[2][marker][event.astype(int)].values])\n",
    "    data[marker].append([markers[0][marker][-1].values,markers[1][marker][-1].values,markers[2][marker][-1].values])"
   ]
  },
  {
   "cell_type": "code",
   "execution_count": 28,
   "metadata": {},
   "outputs": [],
   "source": [
    "def load_data(data_path):\n",
    "    event=read_labels_base(data_path,200)\n",
    "    data=[]\n",
    "    for marker in range(len(markers_names)):\n",
    "        data.append([])\n",
    "        data[marker].append([markers[0][marker][0].values,markers[1][marker][0].values,markers[2][marker][0].values])\n",
    "        data[marker].append([markers[0][marker][event.astype(int)].values,markers[1][marker][event.astype(int)].values,markers[2][marker][event.astype(int)].values])\n",
    "        data[marker].append([markers[0][marker][-1].values,markers[1][marker][-1].values,markers[2][marker][-1].values])\n",
    "    return data"
   ]
  },
  {
   "cell_type": "code",
   "execution_count": 55,
   "metadata": {},
   "outputs": [],
   "source": [
    "data_path1=r\"Z:\\baza\\2020-08-05-B0444-S01-E01-T01-K01.c3d\"\n",
    "data_path2=r\"Z:\\baza\\2020-08-05-B0444-S01-E02-T01-K01.c3d\"\n",
    "data_path3=r\"Z:\\baza\\2020-08-05-B0444-S01-E03-T01-K01.c3d\"\n",
    "data_path4=r\"Z:\\baza\\2020-08-05-B0444-S01-E04-T01-K02.c3d\"\n",
    "data_path5=r\"Z:\\baza\\2020-08-05-B0444-S01-E05-T01-K01.c3d\"\n",
    "data.append(load_data(data_path1))\n",
    "data.append(load_data(data_path2))\n",
    "data.append(load_data(data_path3))\n",
    "data.append(load_data(data_path4))\n",
    "data.append(load_data(data_path5))\n"
   ]
  },
  {
   "cell_type": "code",
   "execution_count": null,
   "metadata": {},
   "outputs": [],
   "source": []
  },
  {
   "cell_type": "code",
   "execution_count": 27,
   "metadata": {},
   "outputs": [
    {
     "ename": "TypeError",
     "evalue": "len() of unsized object",
     "output_type": "error",
     "traceback": [
      "\u001b[1;31m---------------------------------------------------------------------------\u001b[0m",
      "\u001b[1;31mTypeError\u001b[0m                                 Traceback (most recent call last)",
      "\u001b[1;32m<ipython-input-27-5556fa6fc84c>\u001b[0m in \u001b[0;36m<module>\u001b[1;34m\u001b[0m\n\u001b[0;32m     18\u001b[0m \u001b[0mmodel\u001b[0m\u001b[1;33m.\u001b[0m\u001b[0madd_transition\u001b[0m\u001b[1;33m(\u001b[0m\u001b[0ms2\u001b[0m\u001b[1;33m,\u001b[0m \u001b[0ms2\u001b[0m\u001b[1;33m,\u001b[0m \u001b[1;36m0.9\u001b[0m\u001b[1;33m)\u001b[0m\u001b[1;33m\u001b[0m\u001b[1;33m\u001b[0m\u001b[0m\n\u001b[0;32m     19\u001b[0m \u001b[0mmodel\u001b[0m\u001b[1;33m.\u001b[0m\u001b[0mbake\u001b[0m\u001b[1;33m(\u001b[0m\u001b[1;33m)\u001b[0m\u001b[1;33m\u001b[0m\u001b[1;33m\u001b[0m\u001b[0m\n\u001b[1;32m---> 20\u001b[1;33m \u001b[0mmodel\u001b[0m\u001b[1;33m.\u001b[0m\u001b[0mpredict\u001b[0m\u001b[1;33m(\u001b[0m\u001b[0md1\u001b[0m\u001b[1;33m)\u001b[0m\u001b[1;33m\u001b[0m\u001b[1;33m\u001b[0m\u001b[0m\n\u001b[0m\u001b[0;32m     21\u001b[0m \u001b[0mprint\u001b[0m\u001b[1;33m(\u001b[0m\u001b[0mmodel\u001b[0m\u001b[1;33m.\u001b[0m\u001b[0mprobability\u001b[0m\u001b[1;33m(\u001b[0m\u001b[0mlist\u001b[0m\u001b[1;33m(\u001b[0m\u001b[1;34m'background'\u001b[0m\u001b[1;33m)\u001b[0m\u001b[1;33m)\u001b[0m\u001b[1;33m)\u001b[0m\u001b[1;33m\u001b[0m\u001b[1;33m\u001b[0m\u001b[0m\n",
      "\u001b[1;32m~\\anaconda3\\lib\\site-packages\\pomegranate\\hmm.pyx\u001b[0m in \u001b[0;36mpomegranate.hmm.HiddenMarkovModel.predict\u001b[1;34m()\u001b[0m\n",
      "\u001b[1;32m~\\anaconda3\\lib\\site-packages\\pomegranate\\hmm.pyx\u001b[0m in \u001b[0;36mpomegranate.hmm.HiddenMarkovModel.maximum_a_posteriori\u001b[1;34m()\u001b[0m\n",
      "\u001b[1;32m~\\anaconda3\\lib\\site-packages\\pomegranate\\hmm.pyx\u001b[0m in \u001b[0;36mpomegranate.hmm.HiddenMarkovModel._maximum_a_posteriori\u001b[1;34m()\u001b[0m\n",
      "\u001b[1;31mTypeError\u001b[0m: len() of unsized object"
     ]
    }
   ],
   "source": [
    "from pomegranate import *\n",
    "\n",
    "model = HiddenMarkovModel()\n",
    "d1 = DiscreteDistribution({'A': 0.25, 'C': 0.25, 'G': 0.25, 'T': 0.25})\n",
    "d2 = DiscreteDistribution({'A': 0.10, 'C': 0.40, 'G': 0.40, 'T': 0.10})\n",
    "\n",
    "\n",
    "s1 = State(d1, name='background')\n",
    "s2 = State(d2, name='CG island')\n",
    "\n",
    "model = HiddenMarkovModel()\n",
    "model.add_states(s1, s2)\n",
    "model.add_transition(model.start, s1, 0.5)\n",
    "model.add_transition(model.start, s2, 0.5)\n",
    "model.add_transition(s1, s1, 0.9)\n",
    "model.add_transition(s1, s2, 0.1)\n",
    "model.add_transition(s2, s1, 0.1)\n",
    "model.add_transition(s2, s2, 0.9)\n",
    "model.bake()\n",
    "model.predict(d1)\n",
    "print(model.probability(list('background')))"
   ]
  },
  {
   "cell_type": "code",
   "execution_count": 81,
   "metadata": {},
   "outputs": [
    {
     "name": "stdout",
     "output_type": "stream",
     "text": [
      "0.007407407407407406\n"
     ]
    }
   ],
   "source": [
    "from pomegranate import *\n",
    "\n",
    "model = HiddenMarkovModel()\n",
    "d1 = DiscreteDistribution({'S': 1/3, 'K':1/3, '1': 1/3, '2': 0, '3': 0, '4': 0, '5': 0.})\n",
    "d2 = DiscreteDistribution({'S': 1/3, 'K': 1/3, '1': 0, '2': 1/3, '3': 0, '4': 0, '5': 0})\n",
    "d3 = DiscreteDistribution({'S': 1/3, 'K': 1/3, '1': 0, '2': 0, '3': 1/3, '4': 0, '5': 0})\n",
    "d4 = DiscreteDistribution({'S': 1/3, 'K': 1/3, '1': 0, '2': 0, '3': 0, '4': 1/3, '5': 0})\n",
    "d5 = DiscreteDistribution({'S': 1/3, 'K': 1/3, '1': 0, '2': 0, '3': 0, '4': 0, '5': 1/3})\n",
    "\n",
    "ds = DiscreteDistribution({'S': 1/3, 'K': 1/3, '1': 0, '2': 0, '3': 0, '4': 1/3, '5': 0})\n",
    "dk = DiscreteDistribution({'S': 1/3, 'K': 1/3, '1': 0, '2': 0, '3': 0, '4': 0, '5': 1/3})\n",
    "\n",
    "s1 = State(d1, name='Cwiczenie 1')\n",
    "s2 = State(d2, name='Cwiczenie 2')\n",
    "s3 = State(d3, name='Cwiczenie 3')\n",
    "s4 = State(d4, name='Cwiczenie 4')\n",
    "s5 = State(d5, name='Cwiczenie 5')\n",
    "\n",
    "s = State(ds, name='Pozycja poczatkowa')\n",
    "k = State(dk, name='Pozycja koncowa')\n",
    "\n",
    "model = HiddenMarkovModel()\n",
    "model.add_states(s1, s2, s3, s4, s5, s, k)\n",
    "\n",
    "model.add_transition(model.start, s1, 0.0)\n",
    "model.add_transition(model.start, s2, 0.0)\n",
    "model.add_transition(model.start, s3, 0.0)\n",
    "model.add_transition(model.start, s4, 0.0)\n",
    "model.add_transition(model.start, s5, 0.0)\n",
    "\n",
    "model.add_transition(model.start, s, 1.0)\n",
    "model.add_transition(model.start, k, 0.0)\n",
    "\n",
    "model.add_transition(s, k, 0.0)\n",
    "model.add_transition(k, s, 0.0)\n",
    "\n",
    "model.add_transition(s1, k, 1)\n",
    "model.add_transition(s2, k, 1)\n",
    "model.add_transition(s3, k, 1)\n",
    "model.add_transition(s4, k, 1)\n",
    "model.add_transition(s5, k, 1)\n",
    "\n",
    "model.add_transition(s, s1, 0.2)\n",
    "model.add_transition(s, s2, 0.2)\n",
    "model.add_transition(s, s3, 0.2)\n",
    "model.add_transition(s, s4, 0.2)\n",
    "model.add_transition(s, s5, 0.2)\n",
    "\n",
    "model.add_transition(k, s1, 1)\n",
    "model.add_transition(k, s2, 1)\n",
    "model.add_transition(k, s3, 1)\n",
    "model.add_transition(k, s4, 1)\n",
    "model.add_transition(k, s5, 1)\n",
    "\n",
    "model.bake()\n",
    "\n",
    "print(model.probability(\"S1K\"))"
   ]
  },
  {
   "cell_type": "code",
   "execution_count": 84,
   "metadata": {},
   "outputs": [
    {
     "data": {
      "text/plain": [
       "0.007407407407407408"
      ]
     },
     "execution_count": 84,
     "metadata": {},
     "output_type": "execute_result"
    }
   ],
   "source": [
    "1/5*1/3*1/3*1/3"
   ]
  },
  {
   "cell_type": "code",
   "execution_count": 82,
   "metadata": {},
   "outputs": [
    {
     "data": {
      "text/plain": [
       "3.000000000000001"
      ]
     },
     "execution_count": 82,
     "metadata": {},
     "output_type": "execute_result"
    }
   ],
   "source": [
    "0.022222222222222223/0.007407407407407406"
   ]
  },
  {
   "cell_type": "code",
   "execution_count": 99,
   "metadata": {},
   "outputs": [
    {
     "name": "stdout",
     "output_type": "stream",
     "text": [
      "0.2\n"
     ]
    }
   ],
   "source": [
    "from pomegranate import *\n",
    "\n",
    "model = HiddenMarkovModel()\n",
    "\n",
    "\n",
    "\n",
    "\n",
    "d1 = DiscreteDistribution({'S': 0, 'K':0, '1':1, '2': 0, '3': 0, '4': 0, '5': 0.})\n",
    "d2 = DiscreteDistribution({'S': 0, 'K': 0, '1': 0, '2': 1, '3': 0, '4': 0, '5': 0})\n",
    "d3 = DiscreteDistribution({'S': 0, 'K': 0, '1': 0, '2': 0, '3':1, '4': 0, '5': 0})\n",
    "d4 = DiscreteDistribution({'S': 0, 'K': 0, '1': 0, '2': 0, '3': 0, '4': 1, '5': 0})\n",
    "d5 = DiscreteDistribution({'S': 0, 'K': 0, '1': 0, '2': 0, '3': 0, '4': 0, '5': 1})\n",
    "\n",
    "ds = DiscreteDistribution({'S': 1, 'K': 0, '1': 0, '2': 0, '3': 0, '4': 0, '5': 0})\n",
    "dk = DiscreteDistribution({'S': 0, 'K':1, '1': 0, '2': 0, '3': 0, '4': 0, '5': 0})\n",
    "\n",
    "s1 = State(d1, name='Cwiczenie 1')\n",
    "s2 = State(d2, name='Cwiczenie 2')\n",
    "s3 = State(d3, name='Cwiczenie 3')\n",
    "s4 = State(d4, name='Cwiczenie 4')\n",
    "s5 = State(d5, name='Cwiczenie 5')\n",
    "\n",
    "s = State(ds, name='Pozycja poczatkowa')\n",
    "k = State(dk, name='Pozycja koncowa')\n",
    "\n",
    "model = HiddenMarkovModel()\n",
    "model.add_states(s1, s2, s3, s4, s5, s, k)\n",
    "\n",
    "model.add_transition(model.start, s1, 0.0)\n",
    "model.add_transition(model.start, s2, 0.0)\n",
    "model.add_transition(model.start, s3, 0.0)\n",
    "model.add_transition(model.start, s4, 0.0)\n",
    "model.add_transition(model.start, s5, 0.0)\n",
    "\n",
    "model.add_transition(model.start, s, 1.0)\n",
    "model.add_transition(model.start, k, 0.0)\n",
    "\n",
    "model.add_transition(s, k, 0.0)\n",
    "model.add_transition(k, s, 0.0)\n",
    "\n",
    "model.add_transition(s1, k, 1)\n",
    "model.add_transition(s2, k, 1)\n",
    "model.add_transition(s3, k, 1)\n",
    "model.add_transition(s4, k, 1)\n",
    "model.add_transition(s5, k, 1)\n",
    "\n",
    "model.add_transition(s, s1, 0.2)\n",
    "model.add_transition(s, s2, 0.2)\n",
    "model.add_transition(s, s3, 0.2)\n",
    "model.add_transition(s, s4, 0.2)\n",
    "model.add_transition(s, s5, 0.2)\n",
    "\n",
    "model.add_transition(k, s1, 1)\n",
    "model.add_transition(k, s2, 1)\n",
    "model.add_transition(k, s3, 1)\n",
    "model.add_transition(k, s4, 1)\n",
    "model.add_transition(k, s5, 1)\n",
    "\n",
    "model.bake()\n",
    "\n",
    "print(model.probability(\"S1\"))"
   ]
  },
  {
   "cell_type": "code",
   "execution_count": null,
   "metadata": {},
   "outputs": [],
   "source": []
  },
  {
   "cell_type": "code",
   "execution_count": null,
   "metadata": {},
   "outputs": [],
   "source": []
  }
 ],
 "metadata": {
  "kernelspec": {
   "display_name": "Python 3",
   "language": "python",
   "name": "python3"
  },
  "language_info": {
   "codemirror_mode": {
    "name": "ipython",
    "version": 3
   },
   "file_extension": ".py",
   "mimetype": "text/x-python",
   "name": "python",
   "nbconvert_exporter": "python",
   "pygments_lexer": "ipython3",
   "version": "3.8.3"
  }
 },
 "nbformat": 4,
 "nbformat_minor": 4
}
