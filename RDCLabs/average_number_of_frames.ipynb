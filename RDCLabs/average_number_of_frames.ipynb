{
 "cells": [
  {
   "cell_type": "code",
   "execution_count": 57,
   "metadata": {},
   "outputs": [
    {
     "name": "stdout",
     "output_type": "stream",
     "text": [
      "Wyszukiwanie w folderze Y:\\baza\\*.c3d\n",
      "srednia z liczby  100 537.72\n",
      "srednia z liczby  200 521.325\n",
      "srednia z liczby  300 495.73\n",
      "srednia z liczby  400 488.34\n",
      "srednia z liczby  500 490.302\n",
      "srednia z liczby  600 485.13166666666666\n",
      "srednia z liczby  700 478.6614285714286\n",
      "srednia z liczby  800 471.26875\n",
      "srednia z liczby  900 463.9488888888889\n",
      "srednia z liczby  1000 460.677\n",
      "srednia z liczby  1100 454.69\n",
      "srednia z liczby  1200 448.5966666666667\n",
      "srednia z liczby  1300 443.1753846153846\n",
      "srednia z liczby  1400 439.835\n",
      "srednia z liczby  1500 439.62466666666666\n",
      "srednia z liczby  1600 436.209375\n",
      "srednia z liczby  1700 434.0835294117647\n",
      "srednia z liczby  1800 429.5727777777778\n",
      "srednia z liczby  1900 430.45736842105265\n",
      "srednia z liczby  2000 430.9945\n",
      "srednia z liczby  2100 430.48238095238094\n",
      "srednia z liczby  2200 430.4909090909091\n",
      "srednia z liczby  2300 430.6152173913043\n",
      "srednia z liczby  2400 430.7775\n",
      "srednia z liczby  2500 433.0196\n",
      "srednia z liczby  2600 433.855\n",
      "srednia z liczby  2700 436.49666666666667\n",
      "srednia z liczby  2800 438.5835714285714\n",
      "srednia z liczby  2900 443.2755172413793\n",
      "srednia z liczby  3000 447.2423333333333\n",
      "srednia z liczby  3100 448.9525806451613\n",
      "srednia z liczby  3200 448.64875\n",
      "srednia z liczby  3300 448.7063636363636\n",
      "srednia z liczby  3400 450.8314705882353\n",
      "srednia z liczby  3500 453.11885714285717\n",
      "srednia z liczby  3600 453.7702777777778\n",
      "srednia z liczby  3700 452.48945945945945\n",
      "449.85842577918646\n"
     ]
    }
   ],
   "source": [
    "import glob\n",
    "from ezc3d import c3d\n",
    "c=0\n",
    "nrcwiczenia=\"1\"\n",
    "x=  \"Y:\\\\baza\\\\\"\n",
    "const=\"*.c3d\"\n",
    "path=x+const\n",
    "suma=0\n",
    "print(\"Wyszukiwanie w folderze\",path)\n",
    "for name in glob.glob(path,recursive = True): \n",
    "    c=c+1;\n",
    "    data_path =name\n",
    "    file = c3d(data_path)\n",
    "    x=file['parameters']['POINT']['FRAMES']['value'][0]\n",
    "    suma=suma+x\n",
    "    if c%100==0:\n",
    "        print(\"srednia z liczby \",c,suma/c)\n",
    "avr=suma/c\n",
    "print(avr)"
   ]
  }
 ],
 "metadata": {
  "kernelspec": {
   "display_name": "Python 3",
   "language": "python",
   "name": "python3"
  },
  "language_info": {
   "codemirror_mode": {
    "name": "ipython",
    "version": 3
   },
   "file_extension": ".py",
   "mimetype": "text/x-python",
   "name": "python",
   "nbconvert_exporter": "python",
   "pygments_lexer": "ipython3",
   "version": "3.8.3"
  }
 },
 "nbformat": 4,
 "nbformat_minor": 4
}
