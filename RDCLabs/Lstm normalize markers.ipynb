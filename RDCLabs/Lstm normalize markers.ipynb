{
 "cells": [
  {
   "cell_type": "code",
   "execution_count": 106,
   "metadata": {},
   "outputs": [],
   "source": [
    "from numpy import mean\n",
    "from numpy import std\n",
    "from numpy import dstack\n",
    "from pandas import read_csv\n",
    "from keras.models import Sequential\n",
    "from keras.layers import Dense\n",
    "from keras.layers import Flatten\n",
    "from keras.layers import Dropout\n",
    "from keras.layers import LSTM\n",
    "from keras.layers import TimeDistributed\n",
    "from keras.layers import ConvLSTM2D\n",
    "from keras.utils import to_categorical\n",
    "from matplotlib import pyplot\n",
    "from scipy import stats\n",
    "import numpy as np\n",
    "import h5py\n",
    "import pandas as pd\n",
    "import tensorflow as tf"
   ]
  },
  {
   "cell_type": "code",
   "execution_count": 107,
   "metadata": {},
   "outputs": [],
   "source": [
    "\n",
    "f = h5py.File('Z:\\gait_database\\LSTM_data_onlyMarkersEMG.h5', 'r')"
   ]
  },
  {
   "cell_type": "code",
   "execution_count": 108,
   "metadata": {},
   "outputs": [
    {
     "name": "stdout",
     "output_type": "stream",
     "text": [
      "['x_test', 'x_train', 'x_valid', 'y_test', 'y_train', 'y_valid']\n"
     ]
    }
   ],
   "source": [
    "\n",
    "print(list(f.keys()))"
   ]
  },
  {
   "cell_type": "code",
   "execution_count": 109,
   "metadata": {},
   "outputs": [],
   "source": [
    "x_test = f['x_test'][:,:,-16:]\n",
    "x_train = f['x_train'][:,:,-16:]\n",
    "x_valid = f['x_valid'][:,:,-16:]\n",
    "y_test = f['y_test']\n",
    "y_train = f['y_train']\n",
    "y_valid = f['y_valid']\n"
   ]
  },
  {
   "cell_type": "code",
   "execution_count": null,
   "metadata": {},
   "outputs": [],
   "source": [
    "\n"
   ]
  },
  {
   "cell_type": "code",
   "execution_count": 110,
   "metadata": {},
   "outputs": [
    {
     "name": "stdout",
     "output_type": "stream",
     "text": [
      "print x_train = (301, 425, 16) y_train = (301, 1)\n",
      "print x_test =  (100, 425, 16) y_test  = (100, 1)\n",
      "print x_valid = (100, 425, 16) y_valid = (100, 1)\n"
     ]
    }
   ],
   "source": [
    "print(\"print x_train =\",x_train.shape, \"y_train =\",y_train.shape)\n",
    "print(\"print x_test = \", x_test.shape,\"y_test  =\", y_test.shape)\n",
    "print(\"print x_valid =\",x_valid.shape, \"y_valid =\",y_valid.shape)"
   ]
  },
  {
   "cell_type": "code",
   "execution_count": 111,
   "metadata": {},
   "outputs": [],
   "source": [
    "import pandas as pd"
   ]
  },
  {
   "cell_type": "markdown",
   "metadata": {},
   "source": [
    "# normalizacja markerów\n"
   ]
  },
  {
   "cell_type": "code",
   "execution_count": null,
   "metadata": {},
   "outputs": [],
   "source": []
  },
  {
   "cell_type": "code",
   "execution_count": null,
   "metadata": {},
   "outputs": [],
   "source": []
  },
  {
   "cell_type": "code",
   "execution_count": 112,
   "metadata": {},
   "outputs": [
    {
     "data": {
      "text/plain": [
       "array([[[-1.25140077, -1.52061236, -0.9568416 , ..., -1.17357742,\n",
       "         -0.7553479 , -0.99558973],\n",
       "        [-1.18720482, -1.47145736, -0.92632328, ..., -1.14645063,\n",
       "         -0.73268414, -0.96597235],\n",
       "        [-1.12483156, -1.42329691, -0.89548411, ..., -1.11927373,\n",
       "         -0.71086637, -0.93716674],\n",
       "        ...,\n",
       "        [-0.80622575, -0.72916412, -0.83278146, ..., -1.02397797,\n",
       "         -0.16617194,  0.29518572],\n",
       "        [-0.80663657, -0.72917669, -0.83259032, ..., -1.02396978,\n",
       "         -0.16604347,  0.29570355],\n",
       "        [-0.80677831, -0.72918305, -0.83252476, ..., -1.02396754,\n",
       "         -0.16599945,  0.29586955]],\n",
       "\n",
       "       [[-1.1698649 , -1.19795081, -1.07978408, ..., -1.10784437,\n",
       "         -1.09899674, -0.86633166],\n",
       "        [-1.13991174, -1.15675782, -1.03208723, ..., -1.08644203,\n",
       "         -1.04669873, -0.81784853],\n",
       "        [-1.11075199, -1.11720054, -0.98644515, ..., -1.06524242,\n",
       "         -0.99536321, -0.76692116],\n",
       "        ...,\n",
       "        [-0.89199105, -0.54784614, -0.60918289, ..., -0.72168918,\n",
       "         -0.64477153, -0.76972599],\n",
       "        [-0.89193628, -0.54786057, -0.6092246 , ..., -0.7219562 ,\n",
       "         -0.6449018 , -0.76970509],\n",
       "        [-0.89191508, -0.54786794, -0.60924171, ..., -0.72206005,\n",
       "         -0.64495123, -0.76969457]],\n",
       "\n",
       "       [[-0.88623115, -0.9456963 , -1.02448451, ..., -1.11280933,\n",
       "         -1.35041936, -0.47848888],\n",
       "        [-0.85651589, -0.91697538, -0.96207865, ..., -1.07499976,\n",
       "         -1.24110803, -0.42064463],\n",
       "        [-0.8261986 , -0.88838524, -0.90146639, ..., -1.03470949,\n",
       "         -1.13539669, -0.36111122],\n",
       "        ...,\n",
       "        [-0.7147886 , -0.75077449, -0.83409644, ..., -0.77409389,\n",
       "         -1.35674842, -0.49445463],\n",
       "        [-0.71489619, -0.75078302, -0.83409056, ..., -0.77404584,\n",
       "         -1.35660288, -0.49457889],\n",
       "        [-0.71493186, -0.75078565, -0.83408519, ..., -0.77402873,\n",
       "         -1.35654914, -0.49462136]],\n",
       "\n",
       "       ...,\n",
       "\n",
       "       [[-1.69274748, -1.25816889, -1.61468141, ..., -1.26665561,\n",
       "         -3.20395444, -1.29370918],\n",
       "        [-1.48090116, -1.23091829, -1.43363855, ..., -1.2475645 ,\n",
       "         -2.82924431, -1.18075243],\n",
       "        [-1.27590009, -1.20148325, -1.26106501, ..., -1.22854905,\n",
       "         -2.4676249 , -1.07285745],\n",
       "        ...,\n",
       "        [-0.46745021, -0.16800851, -0.69371649, ..., -1.01163077,\n",
       "         -0.59167019, -0.67793514],\n",
       "        [-0.46759078, -0.16792355, -0.69383554, ..., -1.01161624,\n",
       "         -0.59218893, -0.67795151],\n",
       "        [-0.46764888, -0.16789577, -0.69388501, ..., -1.01161111,\n",
       "         -0.59240149, -0.67795762]],\n",
       "\n",
       "       [[-2.38535223, -2.41028706, -1.69960503, ..., -1.10990879,\n",
       "         -2.80714903, -1.25130894],\n",
       "        [-2.11373269, -2.21502049, -1.61553053, ..., -1.10270293,\n",
       "         -2.54686375, -1.12850992],\n",
       "        [-1.84910875, -2.02299853, -1.53457974, ..., -1.09633105,\n",
       "         -2.28559343, -1.01385252],\n",
       "        ...,\n",
       "        [-0.07978809, -0.39131346,  0.29864638, ..., -0.236684  ,\n",
       "         -1.07252356, -0.62613387],\n",
       "        [-0.07912147, -0.39104178,  0.29917384, ..., -0.23608426,\n",
       "         -1.07214226, -0.6260528 ],\n",
       "        [-0.07885914, -0.39094061,  0.29937707, ..., -0.23584532,\n",
       "         -1.07198762, -0.62602111]],\n",
       "\n",
       "       [[-1.67510436, -0.95515055, -0.59663961, ..., -1.55806321,\n",
       "         -2.78382905, -0.77929243],\n",
       "        [-1.42429332, -0.83836254, -0.30671237, ..., -1.4956524 ,\n",
       "         -2.58649893, -0.71296918],\n",
       "        [-1.17097102, -0.72226217, -0.02172258, ..., -1.43507436,\n",
       "         -2.39444715, -0.64056229],\n",
       "        ...,\n",
       "        [ 0.91570204, -0.91475149, -0.23066838, ..., -0.99629139,\n",
       "         -1.59317239, -0.56005093],\n",
       "        [ 0.915421  , -0.91448522, -0.23010231, ..., -0.99604696,\n",
       "         -1.59320916, -0.55999306],\n",
       "        [ 0.91529233, -0.91436737, -0.22985758, ..., -0.99593861,\n",
       "         -1.59322112, -0.55996818]]])"
      ]
     },
     "execution_count": 112,
     "metadata": {},
     "output_type": "execute_result"
    }
   ],
   "source": [
    "stats.zscore(x_train, axis=1, ddof=1)\n",
    "stats.zscore(x_test, axis=1, ddof=1)\n"
   ]
  },
  {
   "cell_type": "code",
   "execution_count": null,
   "metadata": {},
   "outputs": [],
   "source": []
  },
  {
   "cell_type": "code",
   "execution_count": 113,
   "metadata": {},
   "outputs": [],
   "source": [
    "def load_group(filenames):\n",
    "    loaded = list()\n",
    "    for name in filenames:\n",
    "        data = f\n",
    "        loaded.append(data)\n",
    "    # grupę stosów, tak aby funkcje były trzecim wymiarem\n",
    "    loaded = dstack(loaded)\n",
    "    return loaded"
   ]
  },
  {
   "cell_type": "code",
   "execution_count": 114,
   "metadata": {},
   "outputs": [],
   "source": [
    "    c = list(zip(x_train,y_train ))\n",
    "    np.random.shuffle(c)\n",
    "    d = list(zip(x_test,y_test ))\n",
    "    np.random.shuffle(d)\n",
    "    v = list(zip(c,d))\n",
    "    np.random.shuffle(v)"
   ]
  },
  {
   "cell_type": "code",
   "execution_count": 115,
   "metadata": {},
   "outputs": [],
   "source": [
    "def load_dataset():\n",
    "    \n",
    "    c = list(zip(x_train,y_train ))\n",
    "    np.random.shuffle(c)\n",
    "    d = list(zip(x_test,y_test ))\n",
    "    np.random.shuffle(d)\n",
    "    v = list(zip(c,d))\n",
    "    np.random.shuffle(v)\n",
    "    \n",
    "    TrainX = x_train\n",
    "    TestX = x_test\n",
    "    TrainY = y_train\n",
    "    TestY = y_test\n",
    "\n",
    "    TrainY = to_categorical(TrainY)\n",
    "    TestY = to_categorical(TestY)\n",
    "    #print(trenujX.shape, trenujY.shape, testX.shape, testY.shape)\n",
    "    return TrainX, TrainY, TestX, TestY"
   ]
  },
  {
   "cell_type": "code",
   "execution_count": 120,
   "metadata": {},
   "outputs": [],
   "source": [
    "def evaluate_model(TrainX, TrainY, TestX, TestY):\n",
    "    verbose, epochs, batch_size = 0, 10, 64 # 15, 64 domyslnie, dla 10, 64 działa najlepiej verbose pokaze liczbe epok\n",
    "    \n",
    "    n_timesteps, n_features, n_outputs = TrainX.shape[1], TrainX.shape[2], TrainY.shape[1]\n",
    "    model = Sequential()\n",
    "    model.add(LSTM(100, input_shape=(n_timesteps,n_features)))\n",
    "    model.add(Dropout(0.1)) # 0.5\n",
    "    \n",
    "    model.add(Dense(100, activation='relu'))\n",
    "    model.add(Dense(n_outputs, activation='softmax'))\n",
    "    model.compile(loss='categorical_crossentropy', optimizer='adam', metrics=['accuracy'])\n",
    "    \n",
    "    # fit network\n",
    "    model.fit(TrainX, TrainY, epochs=epochs, batch_size=batch_size, verbose=verbose)\n",
    "    # evaluate model\n",
    "    _, accuracy = model.evaluate(TestX, TestY, batch_size=batch_size, verbose=1)\n",
    "    return accuracy"
   ]
  },
  {
   "cell_type": "code",
   "execution_count": 121,
   "metadata": {},
   "outputs": [],
   "source": [
    "def summarize_results(scores):\n",
    "    print(scores)\n",
    "    m, s = mean(scores), std(scores)\n",
    "    print('Accuracy: %.3f%% (+/-%.3f)' % (m, s))"
   ]
  },
  {
   "cell_type": "code",
   "execution_count": 122,
   "metadata": {},
   "outputs": [],
   "source": [
    "def run_experiment(repeats=10):\n",
    "    # load data\n",
    "    TrainX, TrainY, TestX, TestY = load_dataset()\n",
    "    # repeat experiment\n",
    "    scores = list()\n",
    "    for r in range(repeats):\n",
    "        score = evaluate_model(TrainX, TrainY, TestX, TestY)\n",
    "        score = score * 100.0\n",
    "        print('>#%d: %.3f' % (r+1, score))\n",
    "        scores.append(score)\n",
    "    # summarize results\n",
    "    summarize_results(scores)"
   ]
  },
  {
   "cell_type": "code",
   "execution_count": 123,
   "metadata": {
    "scrolled": false
   },
   "outputs": [
    {
     "name": "stdout",
     "output_type": "stream",
     "text": [
      "WARNING:tensorflow:6 out of the last 11 calls to <function Model.make_test_function.<locals>.test_function at 0x000001E9AC82AB80> triggered tf.function retracing. Tracing is expensive and the excessive number of tracings could be due to (1) creating @tf.function repeatedly in a loop, (2) passing tensors with different shapes, (3) passing Python objects instead of tensors. For (1), please define your @tf.function outside of the loop. For (2), @tf.function has experimental_relax_shapes=True option that relaxes argument shapes that can avoid unnecessary retracing. For (3), please refer to https://www.tensorflow.org/tutorials/customization/performance#python_or_tensor_args and https://www.tensorflow.org/api_docs/python/tf/function for  more details.\n",
      "2/2 [==============================] - 0s 34ms/step - loss: 0.6847 - accuracy: 0.6100\n",
      ">#1: 61.000\n",
      "WARNING:tensorflow:6 out of the last 11 calls to <function Model.make_test_function.<locals>.test_function at 0x000001E9BE997790> triggered tf.function retracing. Tracing is expensive and the excessive number of tracings could be due to (1) creating @tf.function repeatedly in a loop, (2) passing tensors with different shapes, (3) passing Python objects instead of tensors. For (1), please define your @tf.function outside of the loop. For (2), @tf.function has experimental_relax_shapes=True option that relaxes argument shapes that can avoid unnecessary retracing. For (3), please refer to https://www.tensorflow.org/tutorials/customization/performance#python_or_tensor_args and https://www.tensorflow.org/api_docs/python/tf/function for  more details.\n",
      "2/2 [==============================] - 0s 41ms/step - loss: 1.6333 - accuracy: 0.6000\n",
      ">#2: 60.000\n",
      "WARNING:tensorflow:6 out of the last 11 calls to <function Model.make_test_function.<locals>.test_function at 0x000001E9D47388B0> triggered tf.function retracing. Tracing is expensive and the excessive number of tracings could be due to (1) creating @tf.function repeatedly in a loop, (2) passing tensors with different shapes, (3) passing Python objects instead of tensors. For (1), please define your @tf.function outside of the loop. For (2), @tf.function has experimental_relax_shapes=True option that relaxes argument shapes that can avoid unnecessary retracing. For (3), please refer to https://www.tensorflow.org/tutorials/customization/performance#python_or_tensor_args and https://www.tensorflow.org/api_docs/python/tf/function for  more details.\n",
      "2/2 [==============================] - 0s 35ms/step - loss: 1.3425 - accuracy: 0.5200\n",
      ">#3: 52.000\n",
      "WARNING:tensorflow:6 out of the last 11 calls to <function Model.make_test_function.<locals>.test_function at 0x000001E9BECD21F0> triggered tf.function retracing. Tracing is expensive and the excessive number of tracings could be due to (1) creating @tf.function repeatedly in a loop, (2) passing tensors with different shapes, (3) passing Python objects instead of tensors. For (1), please define your @tf.function outside of the loop. For (2), @tf.function has experimental_relax_shapes=True option that relaxes argument shapes that can avoid unnecessary retracing. For (3), please refer to https://www.tensorflow.org/tutorials/customization/performance#python_or_tensor_args and https://www.tensorflow.org/api_docs/python/tf/function for  more details.\n",
      "2/2 [==============================] - 0s 47ms/step - loss: 1.3762 - accuracy: 0.5300\n",
      ">#4: 53.000\n",
      "WARNING:tensorflow:6 out of the last 11 calls to <function Model.make_test_function.<locals>.test_function at 0x000001E9CBF67820> triggered tf.function retracing. Tracing is expensive and the excessive number of tracings could be due to (1) creating @tf.function repeatedly in a loop, (2) passing tensors with different shapes, (3) passing Python objects instead of tensors. For (1), please define your @tf.function outside of the loop. For (2), @tf.function has experimental_relax_shapes=True option that relaxes argument shapes that can avoid unnecessary retracing. For (3), please refer to https://www.tensorflow.org/tutorials/customization/performance#python_or_tensor_args and https://www.tensorflow.org/api_docs/python/tf/function for  more details.\n",
      "2/2 [==============================] - 0s 37ms/step - loss: 1.4798 - accuracy: 0.5000\n",
      ">#5: 50.000\n",
      "WARNING:tensorflow:6 out of the last 11 calls to <function Model.make_test_function.<locals>.test_function at 0x000001E9D501F940> triggered tf.function retracing. Tracing is expensive and the excessive number of tracings could be due to (1) creating @tf.function repeatedly in a loop, (2) passing tensors with different shapes, (3) passing Python objects instead of tensors. For (1), please define your @tf.function outside of the loop. For (2), @tf.function has experimental_relax_shapes=True option that relaxes argument shapes that can avoid unnecessary retracing. For (3), please refer to https://www.tensorflow.org/tutorials/customization/performance#python_or_tensor_args and https://www.tensorflow.org/api_docs/python/tf/function for  more details.\n",
      "2/2 [==============================] - 0s 64ms/step - loss: 0.8433 - accuracy: 0.5300\n",
      ">#6: 53.000\n",
      "WARNING:tensorflow:6 out of the last 11 calls to <function Model.make_test_function.<locals>.test_function at 0x000001E997A963A0> triggered tf.function retracing. Tracing is expensive and the excessive number of tracings could be due to (1) creating @tf.function repeatedly in a loop, (2) passing tensors with different shapes, (3) passing Python objects instead of tensors. For (1), please define your @tf.function outside of the loop. For (2), @tf.function has experimental_relax_shapes=True option that relaxes argument shapes that can avoid unnecessary retracing. For (3), please refer to https://www.tensorflow.org/tutorials/customization/performance#python_or_tensor_args and https://www.tensorflow.org/api_docs/python/tf/function for  more details.\n",
      "2/2 [==============================] - 0s 57ms/step - loss: 0.7478 - accuracy: 0.7100\n",
      ">#7: 71.000\n",
      "WARNING:tensorflow:6 out of the last 11 calls to <function Model.make_test_function.<locals>.test_function at 0x000001E9B49CF820> triggered tf.function retracing. Tracing is expensive and the excessive number of tracings could be due to (1) creating @tf.function repeatedly in a loop, (2) passing tensors with different shapes, (3) passing Python objects instead of tensors. For (1), please define your @tf.function outside of the loop. For (2), @tf.function has experimental_relax_shapes=True option that relaxes argument shapes that can avoid unnecessary retracing. For (3), please refer to https://www.tensorflow.org/tutorials/customization/performance#python_or_tensor_args and https://www.tensorflow.org/api_docs/python/tf/function for  more details.\n",
      "2/2 [==============================] - 0s 69ms/step - loss: 0.9285 - accuracy: 0.4900\n",
      ">#8: 49.000\n",
      "WARNING:tensorflow:6 out of the last 11 calls to <function Model.make_test_function.<locals>.test_function at 0x000001E9D862D940> triggered tf.function retracing. Tracing is expensive and the excessive number of tracings could be due to (1) creating @tf.function repeatedly in a loop, (2) passing tensors with different shapes, (3) passing Python objects instead of tensors. For (1), please define your @tf.function outside of the loop. For (2), @tf.function has experimental_relax_shapes=True option that relaxes argument shapes that can avoid unnecessary retracing. For (3), please refer to https://www.tensorflow.org/tutorials/customization/performance#python_or_tensor_args and https://www.tensorflow.org/api_docs/python/tf/function for  more details.\n",
      "2/2 [==============================] - 0s 65ms/step - loss: 1.0120 - accuracy: 0.5000\n",
      ">#9: 50.000\n",
      "WARNING:tensorflow:6 out of the last 11 calls to <function Model.make_test_function.<locals>.test_function at 0x000001E9CB138430> triggered tf.function retracing. Tracing is expensive and the excessive number of tracings could be due to (1) creating @tf.function repeatedly in a loop, (2) passing tensors with different shapes, (3) passing Python objects instead of tensors. For (1), please define your @tf.function outside of the loop. For (2), @tf.function has experimental_relax_shapes=True option that relaxes argument shapes that can avoid unnecessary retracing. For (3), please refer to https://www.tensorflow.org/tutorials/customization/performance#python_or_tensor_args and https://www.tensorflow.org/api_docs/python/tf/function for  more details.\n"
     ]
    },
    {
     "name": "stdout",
     "output_type": "stream",
     "text": [
      "2/2 [==============================] - 0s 62ms/step - loss: 1.4354 - accuracy: 0.5500\n",
      ">#10: 55.000\n",
      "[61.000001430511475, 60.00000238418579, 51.99999809265137, 52.99999713897705, 50.0, 52.99999713897705, 70.99999785423279, 49.000000953674316, 50.0, 55.000001192092896]\n",
      "Accuracy: 55.400% (+/-6.468)\n"
     ]
    }
   ],
   "source": [
    "run_experiment(repeats=10)"
   ]
  },
  {
   "cell_type": "code",
   "execution_count": null,
   "metadata": {},
   "outputs": [],
   "source": []
  },
  {
   "cell_type": "code",
   "execution_count": null,
   "metadata": {},
   "outputs": [],
   "source": []
  },
  {
   "cell_type": "code",
   "execution_count": null,
   "metadata": {},
   "outputs": [],
   "source": []
  }
 ],
 "metadata": {
  "kernelspec": {
   "display_name": "Python 3",
   "language": "python",
   "name": "python3"
  },
  "language_info": {
   "codemirror_mode": {
    "name": "ipython",
    "version": 3
   },
   "file_extension": ".py",
   "mimetype": "text/x-python",
   "name": "python",
   "nbconvert_exporter": "python",
   "pygments_lexer": "ipython3",
   "version": "3.8.3"
  }
 },
 "nbformat": 4,
 "nbformat_minor": 4
}
