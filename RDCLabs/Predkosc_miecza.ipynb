{
 "cells": [
  {
   "cell_type": "code",
   "execution_count": 124,
   "metadata": {},
   "outputs": [],
   "source": [
    "import numpy as np\n",
    "import importlib\n",
    "from ezc3d import c3d\n",
    "from pyomeca import Markers, Analogs\n",
    "import math\n",
    "import statistics "
   ]
  },
  {
   "cell_type": "code",
   "execution_count": 125,
   "metadata": {},
   "outputs": [],
   "source": [
    "data_path2=r\"Z:\\Miecz\\B0445\\2020-08-06-B0445-S01\\2020-08-06-B0445-S01-E01-T01.c3d\"\n",
    "data_path=r\"Z:\\baza\\2020-08-05-B0444-S01-E01-T01-K02.c3d\"\n",
    "marker=Markers.from_c3d(data_path, usecols=[\"Miecz:Miecz1\"])"
   ]
  },
  {
   "cell_type": "code",
   "execution_count": 126,
   "metadata": {},
   "outputs": [],
   "source": [
    "def sword_vel(data_path):\n",
    "    marker=Markers.from_c3d(data_path, usecols=[\"Miecz:Miecz1\"])\n",
    "    dist=[]\n",
    "    for time in marker[0][0][\"time\"].values:\n",
    "        #print(time)\n",
    "        #marker[0][0].values       \n",
    "        #print(marker[0][0][frame].values)\n",
    "        frame=(time*200).astype(int)\n",
    "        if time==0:\n",
    "            dist.append(0)\n",
    "        else:  \n",
    "            x=marker[0][0][frame-1].values-marker[0][0][frame].values\n",
    "            y=marker[1][0][frame-1].values-marker[1][0][frame].values\n",
    "            z=marker[2][0][frame-1].values-marker[2][0][frame].values\n",
    "            dist.append(math.sqrt(x**2+y**2+z**2))\n",
    "    vel=np.diff(dist[1:])\n",
    "    #print(dist[frame])\n",
    "    #print(vel)\n",
    "    max_vel=max(vel)\n",
    "    ave_vel=statistics.mean(vel)\n",
    "    \n",
    "\n",
    "    return max_vel,ave_vel"
   ]
  },
  {
   "cell_type": "code",
   "execution_count": 127,
   "metadata": {},
   "outputs": [],
   "source": [
    "maxi, mean = sword_vel(data_path)\n"
   ]
  },
  {
   "cell_type": "code",
   "execution_count": 128,
   "metadata": {},
   "outputs": [
    {
     "name": "stdout",
     "output_type": "stream",
     "text": [
      "-0.000717737475154958\n",
      "4.70640148184215\n"
     ]
    }
   ],
   "source": [
    "print(mean)\n",
    "print(maxi)"
   ]
  },
  {
   "cell_type": "code",
   "execution_count": null,
   "metadata": {},
   "outputs": [],
   "source": []
  },
  {
   "cell_type": "code",
   "execution_count": null,
   "metadata": {},
   "outputs": [],
   "source": []
  }
 ],
 "metadata": {
  "kernelspec": {
   "display_name": "Python 3",
   "language": "python",
   "name": "python3"
  },
  "language_info": {
   "codemirror_mode": {
    "name": "ipython",
    "version": 3
   },
   "file_extension": ".py",
   "mimetype": "text/x-python",
   "name": "python",
   "nbconvert_exporter": "python",
   "pygments_lexer": "ipython3",
   "version": "3.8.3"
  }
 },
 "nbformat": 4,
 "nbformat_minor": 4
}
