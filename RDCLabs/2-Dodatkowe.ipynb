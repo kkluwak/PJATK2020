{
 "cells": [
  {
   "cell_type": "markdown",
   "metadata": {},
   "source": [
    "1. [Wyświetlenie dostępnych plików c3d w danym folderze ](#lista)\n",
    "\n",
    "\n",
    "2. [Średnia ilość klatek w plikach c3d](#srednia)\n",
    "\n",
    "\n",
    "3. [Wczytanie dowolnego markera](#markery)\n",
    "    - [Opis](#OpisMarkery)\n",
    "    - [Kod](#KodMarkery)"
   ]
  },
  {
   "cell_type": "markdown",
   "metadata": {},
   "source": [
    " # Wyświetlenie dostępnych plików c3d w danym folderze <a name=\"lista\"></a>"
   ]
  },
  {
   "cell_type": "code",
   "execution_count": 2,
   "metadata": {},
   "outputs": [
    {
     "name": "stdout",
     "output_type": "stream",
     "text": [
      "Y:\\Miecz\\B0445\\2020-08-06-B0445-S01\\2020-08-06-B0445-S01-E01-T01.c3d\n",
      "Y:\\Miecz\\B0445\\2020-08-06-B0445-S01\\2020-08-06-B0445-S01-E01-T02.c3d\n",
      "Y:\\Miecz\\B0445\\2020-08-06-B0445-S01\\2020-08-06-B0445-S01-E01-T03.c3d\n",
      "Y:\\Miecz\\B0445\\2020-08-06-B0445-S01\\2020-08-06-B0445-S01-E01-T04.c3d\n",
      "Y:\\Miecz\\B0445\\2020-08-06-B0445-S01\\2020-08-06-B0445-S01-E01-T05.c3d\n"
     ]
    }
   ],
   "source": [
    "import glob\n",
    "osoba=\"B0445\"\n",
    "nrcwiczenia=\"1\"\n",
    "x=  \"Y:\\Miecz\\\\\"\n",
    "stale=\"\\*\\*-E0\"\n",
    "stale2=\"-*.c3d\"\n",
    "path=x+osoba+stale+nrcwiczenia+stale2\n",
    "\n",
    "for name in glob.glob(path,recursive = True): \n",
    "    print(name)"
   ]
  },
  {
   "cell_type": "markdown",
   "metadata": {},
   "source": [
    " # Średnia ilość klatek w plikach c3d <a name=\"srednia\"></a>"
   ]
  },
  {
   "cell_type": "code",
   "execution_count": null,
   "metadata": {},
   "outputs": [
    {
     "name": "stdout",
     "output_type": "stream",
     "text": [
      "Wyszukiwanie w folderze Y:\\baza\\*.c3d\n",
      "srednia z liczby  100 535.72\n",
      "srednia z liczby  200 519.325\n",
      "srednia z liczby  300 493.73\n",
      "srednia z liczby  400 486.34\n",
      "srednia z liczby  500 488.302\n",
      "srednia z liczby  600 483.13166666666666\n",
      "srednia z liczby  700 476.6614285714286\n",
      "srednia z liczby  800 469.26875\n",
      "srednia z liczby  900 461.9488888888889\n",
      "srednia z liczby  1000 458.677\n",
      "srednia z liczby  1100 452.69\n",
      "srednia z liczby  1200 446.5966666666667\n",
      "srednia z liczby  1300 441.1753846153846\n",
      "srednia z liczby  1400 437.835\n",
      "srednia z liczby  1500 437.634\n",
      "srednia z liczby  1600 434.22375\n",
      "srednia z liczby  1700 432.0664705882353\n",
      "srednia z liczby  1800 427.6166666666667\n",
      "srednia z liczby  1900 428.4505263157895\n",
      "srednia z liczby  2000 428.8985\n",
      "srednia z liczby  2100 428.5242857142857\n",
      "srednia z liczby  2200 428.5040909090909\n",
      "srednia z liczby  2300 428.6186956521739\n"
     ]
    }
   ],
   "source": [
    "import glob\n",
    "from ezc3d import c3d\n",
    "c=0\n",
    "nrcwiczenia=\"1\"\n",
    "x=  \"Y:\\\\baza\\\\\"\n",
    "const=\"*.c3d\"\n",
    "path=x+const\n",
    "suma=0\n",
    "print(\"Wyszukiwanie w folderze\",path)\n",
    "for name in glob.glob(path,recursive = True): \n",
    "    c=c+1;\n",
    "    data_path =name\n",
    "    file = c3d(data_path)\n",
    "    x=file['parameters']['POINT']['FRAMES']['value'][0]\n",
    "    suma=suma+x\n",
    "    if c%100==0:\n",
    "        print(\"srednia z liczby \",c,suma/c)\n",
    "avr=suma/c\n",
    "print(avr)"
   ]
  },
  {
   "cell_type": "markdown",
   "metadata": {},
   "source": [
    " # Wczytanie dowolnego markera <a name=\"markery\"></a>"
   ]
  },
  {
   "cell_type": "markdown",
   "metadata": {},
   "source": [
    " # Opis:  <a name=\"OpisMarkery\"></a>"
   ]
  },
  {
   "cell_type": "markdown",
   "metadata": {},
   "source": [
    "## Head\n",
    "\n",
    "###  m1 -  Left Front of Head     LFHD\n",
    "###  m2 -  Right Front of Head  RFHD\n",
    "###  m3 -  Left Back of Head     LBHD\n",
    "###  m4 -  Right Back of Head  RBHD\n",
    "\n",
    "## Torso \n",
    "\n",
    "### m5 - 7th Cervical Vertebra        C7\n",
    "### m6 - 10th Thoracic Vertebra     T10\n",
    "### m7 - Clavicle                              CLAV\n",
    "### m8 - Sternum                             STRN\n",
    "### m9 - Right Back                         RBAC\n",
    "\n",
    "## Upper Limb (Left) \n",
    "\n",
    "### m10 - Left Shoulder                 LSHO\n",
    "### m11 - Left Upper Arm              LUPA\n",
    "### m12 - Left Elbow                      LELB\n",
    "### m13 - Left Forearm                  LFRM\n",
    "### m14 - Left Wrist Marker A       LWRA\n",
    "### m15 - Left Wrist Marker B       LWRB\n",
    "### m16 - Left Finger                     LFIN\n",
    "\n",
    "\n",
    "## Upper Limb (Right) \n",
    "\n",
    "### m17 - Right Shoulder                 RSHO\n",
    "### m18 - Right Upper Arm              RUPA\n",
    "### m19 - Right Elbow                      RELB\n",
    "### m20 - Right Forearm                  RFRM\n",
    "### m21 - Right Wrist Marker A       RWRA\n",
    "### m22 - Right Wrist Marker B       RWRB\n",
    "### m23 - Right Finger                     RFIN\n",
    "\n",
    "## Pelvis \n",
    "\n",
    "### m24 - Left Anterior Superior Iliac      LASI\n",
    "### m25 - Right Anterior Superior Iliac   RASI \n",
    "### m26 - Left Posterior Superior Iliac    LPSI\n",
    "### m27 - Right Posterior Superior Iliac RPSI \n",
    "\n",
    "## Lower Limb (Left) \n",
    "\n",
    "### m28 - Left Thigh   LTHI\n",
    "### m29 - Left Knee    LKNE\n",
    "### m30 - Left Tibia     LTIB\n",
    "### m31 - Left Ankle   LANK\n",
    "### m32 - Left Heel     LHEE\n",
    "### m33 - Left Toe      LTOE\n",
    "\n",
    "## Lower Limb (Right) \n",
    "\n",
    "### m34 - Right Thigh   RTHI\n",
    "### m35 - Right Knee    RKNE\n",
    "### m36 - Right Tibia     RTIB\n",
    "### m37 - Right Ankle   RANK\n",
    "### m38 - Right Heel     RHEE\n",
    "### m39 - Right Toe      RTOE"
   ]
  },
  {
   "cell_type": "markdown",
   "metadata": {},
   "source": [
    " ## Kod: <a name=\"KodMarkery\"></a>"
   ]
  },
  {
   "cell_type": "code",
   "execution_count": 1,
   "metadata": {},
   "outputs": [],
   "source": [
    "Body = \"B0446\"\n",
    "m1 = Body+\":\"+\"LFHD\"\n",
    "m2 = Body+\":\"+\"RFHD\"\n",
    "m3 = Body+\":\"+\"LBHD\"\n",
    "m4 = Body+\":\"+\"RBHD\"\n",
    "m5 = Body+\":\"+\"C7\"\n",
    "m6 = Body+\":\"+\"T10\"\n",
    "m7 = Body+\":\"+\"CLAV\"\n",
    "m8 = Body+\":\"+\"STRN\"\n",
    "m9 = Body+\":\"+\"RBAC\"\n",
    "m10 = Body+\":\"+\"LSHO\"\n",
    "m11 = Body+\":\"+\"LUPA\"\n",
    "m12 = Body+\":\"+\"LELB\"\n",
    "m13 = Body+\":\"+\"LFRM\"\n",
    "m14 = Body+\":\"+\"LWRA\"\n",
    "m15 = Body+\":\"+\"LWRB\"\n",
    "m16 = Body+\":\"+\"LFIN\"\n",
    "m17 = Body+\":\"+\"RSHO\"\n",
    "m18 = Body+\":\"+\"RUPA\"\n",
    "m19 = Body+\":\"+\"RELB\"\n",
    "m20 = Body+\":\"+\"RFRM\"\n",
    "m21 = Body+\":\"+\"RWRA\"\n",
    "m22 = Body+\":\"+\"RWRB\"\n",
    "m23 = Body+\":\"+\"RFIN\"\n",
    "m24 = Body+\":\"+\"LASI\"\n",
    "m25 = Body+\":\"+\"RASI\"\n",
    "m26 = Body+\":\"+\"LPSI\"\n",
    "m27 = Body+\":\"+\"RPSI\"\n",
    "m28 = Body+\":\"+\"LTHI\"\n",
    "m29 = Body+\":\"+\"LKNE\"\n",
    "m30 = Body+\":\"+\"LTIB\"\n",
    "m31 = Body+\":\"+\"LANK\"\n",
    "m32 = Body+\":\"+\"LHEE\"\n",
    "m33 = Body+\":\"+\"LTOE\"\n",
    "m34 = Body+\":\"+\"RTHI\"\n",
    "m35 = Body+\":\"+\"RKNE\"\n",
    "m36 = Body+\":\"+\"RTIB\"\n",
    "m37 = Body+\":\"+\"RANK\"\n",
    "m38 = Body+\":\"+\"RHEE\"\n",
    "m39 = Body+\":\"+\"RTOE\"\n"
   ]
  },
  {
   "cell_type": "code",
   "execution_count": null,
   "metadata": {},
   "outputs": [],
   "source": []
  }
 ],
 "metadata": {
  "kernelspec": {
   "display_name": "Python 3",
   "language": "python",
   "name": "python3"
  },
  "language_info": {
   "codemirror_mode": {
    "name": "ipython",
    "version": 3
   },
   "file_extension": ".py",
   "mimetype": "text/x-python",
   "name": "python",
   "nbconvert_exporter": "python",
   "pygments_lexer": "ipython3",
   "version": "3.8.3"
  }
 },
 "nbformat": 4,
 "nbformat_minor": 4
}
