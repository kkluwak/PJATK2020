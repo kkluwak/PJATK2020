{
 "cells": [
  {
   "cell_type": "markdown",
   "metadata": {},
   "source": [
    "Cechy ruchu do rozpoznawania:\n",
    "-velocity,\n",
    "-shape,\n",
    "-location,\n",
    "-orientation.\n",
    "\n",
    "https://www.hindawi.com/journals/mpe/2012/986134/"
   ]
  },
  {
   "cell_type": "markdown",
   "metadata": {},
   "source": [
    "Dane do rozpoznania ruchu:\n",
    "    -położenie markeró w pozycji początkowej \n",
    "    -przmeiszczenie markerów w pozycji końcowej względem pozycji końcowej\n",
    "    -praca miesni podczas wykonywania ruchu"
   ]
  },
  {
   "cell_type": "code",
   "execution_count": null,
   "metadata": {},
   "outputs": [],
   "source": []
  },
  {
   "cell_type": "code",
   "execution_count": null,
   "metadata": {},
   "outputs": [],
   "source": []
  }
 ],
 "metadata": {
  "kernelspec": {
   "display_name": "Python 3",
   "language": "python",
   "name": "python3"
  },
  "language_info": {
   "codemirror_mode": {
    "name": "ipython",
    "version": 3
   },
   "file_extension": ".py",
   "mimetype": "text/x-python",
   "name": "python",
   "nbconvert_exporter": "python",
   "pygments_lexer": "ipython3",
   "version": "3.8.3"
  }
 },
 "nbformat": 4,
 "nbformat_minor": 4
}
