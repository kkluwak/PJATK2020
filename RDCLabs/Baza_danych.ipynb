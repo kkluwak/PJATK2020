{
 "cells": [
  {
   "cell_type": "code",
   "execution_count": 76,
   "metadata": {},
   "outputs": [],
   "source": [
    "import numpy as np\n",
    "from ezc3d import c3d\n",
    "from pyomeca import Markers\n",
    "import importlib\n",
    "import os\n",
    "import glob\n",
    "from pathlib import Path\n",
    "import dataprocesing as dp"
   ]
  },
  {
   "cell_type": "code",
   "execution_count": 134,
   "metadata": {},
   "outputs": [],
   "source": [
    "importlib.reload(dp)\n",
    "destiny = r'C:\\Users\\Grafika Multimedia\\Desktop\\Miecze_Praktyki\\baza'\n",
    "for path in Path(r'C:\\Users\\Grafika Multimedia\\Desktop\\Miecze_Praktyki').rglob('*.c3d'):\n",
    "    czas = dp.read_labels(str(path),200)\n",
    "    temp = []\n",
    "    for i in range(len(czas[0])):\n",
    "        if czas[0][i] != 0 and czas[1][i] != 0:\n",
    "            temp.append([int(czas[0][i]), int(czas[1][i])])  \n",
    "    dp.cropp_c3dfile(temp, str(path), str(destiny))\n"
   ]
  }
 ],
 "metadata": {
  "kernelspec": {
   "display_name": "Python 3",
   "language": "python",
   "name": "python3"
  },
  "language_info": {
   "codemirror_mode": {
    "name": "ipython",
    "version": 3
   },
   "file_extension": ".py",
   "mimetype": "text/x-python",
   "name": "python",
   "nbconvert_exporter": "python",
   "pygments_lexer": "ipython3",
   "version": "3.8.3"
  }
 },
 "nbformat": 4,
 "nbformat_minor": 4
}
