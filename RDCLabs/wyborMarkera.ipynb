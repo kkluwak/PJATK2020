{
 "cells": [
  {
   "cell_type": "markdown",
   "metadata": {},
   "source": [
    "## Head\n",
    "\n",
    "###  m1 -  Left Front of Head     LFHD\n",
    "###  m2 -  Right Front of Head  RFHD\n",
    "###  m3 -  Left Back of Head     LBHD\n",
    "###  m4 -  Right Back of Head  RBHD\n",
    "\n",
    "## Torso \n",
    "\n",
    "### m5 - 7th Cervical Vertebra        C7\n",
    "### m6 - 10th Thoracic Vertebra     T10\n",
    "### m7 - Clavicle                              CLAV\n",
    "### m8 - Sternum                             STRN\n",
    "### m9 - Right Back                         RBAC\n",
    "\n",
    "## Upper Limb (Left) \n",
    "\n",
    "### m10 - Left Shoulder                 LSHO\n",
    "### m11 - Left Upper Arm              LUPA\n",
    "### m12 - Left Elbow                      LELB\n",
    "### m13 - Left Forearm                  LFRM\n",
    "### m14 - Left Wrist Marker A       LWRA\n",
    "### m15 - Left Wrist Marker B       LWRB\n",
    "### m16 - Left Finger                     LFIN\n",
    "\n",
    "\n",
    "## Upper Limb (Right) \n",
    "\n",
    "### m17 - Right Shoulder                 RSHO\n",
    "### m18 - Right Upper Arm              RUPA\n",
    "### m19 - Right Elbow                      RELB\n",
    "### m20 - Right Forearm                  RFRM\n",
    "### m21 - Right Wrist Marker A       RWRA\n",
    "### m22 - Right Wrist Marker B       RWRB\n",
    "### m23 - Right Finger                     RFIN\n",
    "\n",
    "## Pelvis \n",
    "\n",
    "### m24 - Left Anterior Superior Iliac      LASI\n",
    "### m25 - Right Anterior Superior Iliac   RASI \n",
    "### m26 - Left Posterior Superior Iliac    LPSI\n",
    "### m27 - Right Posterior Superior Iliac RPSI \n",
    "\n",
    "## Lower Limb (Left) \n",
    "\n",
    "### m28 - Left Thigh   LTHI\n",
    "### m29 - Left Knee    LKNE\n",
    "### m30 - Left Tibia     LTIB\n",
    "### m31 - Left Ankle   LANK\n",
    "### m32 - Left Heel     LHEE\n",
    "### m33 - Left Toe      LTOE\n",
    "\n",
    "## Lower Limb (Right) \n",
    "\n",
    "### m34 - Right Thigh   RTHI\n",
    "### m35 - Right Knee    RKNE\n",
    "### m36 - Right Tibia     RTIB\n",
    "### m37 - Right Ankle   RANK\n",
    "### m38 - Right Heel     RHEE\n",
    "### m39 - Right Toe      RTOE\n"
   ]
  },
  {
   "cell_type": "code",
   "execution_count": 12,
   "metadata": {},
   "outputs": [],
   "source": [
    "Body = \"B0446\"\n",
    "m1 = Body+\":\"+\"LFHD\"\n",
    "m2 = Body+\":\"+\"RFHD\"\n",
    "m3 = Body+\":\"+\"LBHD\"\n",
    "m4 = Body+\":\"+\"RBHD\"\n",
    "m5 = Body+\":\"+\"C7\"\n",
    "m6 = Body+\":\"+\"T10\"\n",
    "m7 = Body+\":\"+\"CLAV\"\n",
    "m8 = Body+\":\"+\"STRN\"\n",
    "m9 = Body+\":\"+\"RBAC\"\n",
    "m10 = Body+\":\"+\"LSHO\"\n",
    "m11 = Body+\":\"+\"LUPA\"\n",
    "m12 = Body+\":\"+\"LELB\"\n",
    "m13 = Body+\":\"+\"LFRM\"\n",
    "m14 = Body+\":\"+\"LWRA\"\n",
    "m15 = Body+\":\"+\"LWRB\"\n",
    "m16 = Body+\":\"+\"LFIN\"\n",
    "m17 = Body+\":\"+\"RSHO\"\n",
    "m18 = Body+\":\"+\"RUPA\"\n",
    "m19 = Body+\":\"+\"RELB\"\n",
    "m20 = Body+\":\"+\"RFRM\"\n",
    "m21 = Body+\":\"+\"RWRA\"\n",
    "m22 = Body+\":\"+\"RWRB\"\n",
    "m23 = Body+\":\"+\"RFIN\"\n",
    "m24 = Body+\":\"+\"LASI\"\n",
    "m25 = Body+\":\"+\"RASI\"\n",
    "m26 = Body+\":\"+\"LPSI\"\n",
    "m27 = Body+\":\"+\"RPSI\"\n",
    "m28 = Body+\":\"+\"LTHI\"\n",
    "m29 = Body+\":\"+\"LKNE\"\n",
    "m30 = Body+\":\"+\"LTIB\"\n",
    "m31 = Body+\":\"+\"LANK\"\n",
    "m32 = Body+\":\"+\"LHEE\"\n",
    "m33 = Body+\":\"+\"LTOE\"\n",
    "m34 = Body+\":\"+\"RTHI\"\n",
    "m35 = Body+\":\"+\"RKNE\"\n",
    "m36 = Body+\":\"+\"RTIB\"\n",
    "m37 = Body+\":\"+\"RANK\"\n",
    "m38 = Body+\":\"+\"RHEE\"\n",
    "m39 = Body+\":\"+\"RTOE\"\n"
   ]
  },
  {
   "cell_type": "code",
   "execution_count": 13,
   "metadata": {},
   "outputs": [
    {
     "data": {
      "text/plain": [
       "'B0446:LFHD'"
      ]
     },
     "execution_count": 13,
     "metadata": {},
     "output_type": "execute_result"
    }
   ],
   "source": [
    "m1"
   ]
  }
 ],
 "metadata": {
  "kernelspec": {
   "display_name": "Python 3",
   "language": "python",
   "name": "python3"
  },
  "language_info": {
   "codemirror_mode": {
    "name": "ipython",
    "version": 3
   },
   "file_extension": ".py",
   "mimetype": "text/x-python",
   "name": "python",
   "nbconvert_exporter": "python",
   "pygments_lexer": "ipython3",
   "version": "3.8.3"
  }
 },
 "nbformat": 4,
 "nbformat_minor": 4
}
