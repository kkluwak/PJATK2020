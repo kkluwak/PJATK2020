{
 "cells": [
  {
   "cell_type": "markdown",
   "metadata": {},
   "source": [
    "# RDC Labs - Wczytanie i podział nagrań"
   ]
  },
  {
   "cell_type": "markdown",
   "metadata": {},
   "source": [
    "1. [Wczytanie danych przez pyomeca](#wczytanie)\n",
    "    - [markery](#markery)\n",
    "    - [analogs](#analogs)\n",
    "    - [uzycie ezc3d](#ezc3d)\n",
    "    \n",
    "    \n",
    "2. [Operacje na pliku](#operacje)\n",
    "    - [liczba ramek](#lramek)\n",
    "    - [oznaczenia markerów](#nazwaMarkerów)\n",
    "\n",
    "\n",
    "3. [Wczytanie informacji o eventach](#event)\n",
    "    - [Występowanie eventów](#dostepneEventy)\n",
    "    - [Wyswietlenie czasów występowania eventów](#czasEventy)\n",
    "    - [Funkcja eventy](#funkcjaEvent)\n",
    "    \n",
    "    \n",
    "4. [Funkcja Podział pliku](#podzialPliku)"
   ]
  },
  {
   "cell_type": "markdown",
   "metadata": {},
   "source": [
    "# Wczytanie danych przy pomocy pyomeca <a name=\"wczytanie\"></a>"
   ]
  },
  {
   "cell_type": "markdown",
   "metadata": {},
   "source": [
    "## Wczytanie danych (markery) <a name=\"markery\"></a>"
   ]
  },
  {
   "cell_type": "code",
   "execution_count": 1,
   "metadata": {},
   "outputs": [],
   "source": [
    "from pyomeca import Markers\n",
    "\n",
    "data_path = \"2020-08-06-B0446-S01-E05-T03.c3d\"\n",
    "markers = Markers.from_c3d(data_path, prefix_delimiter=\":\")"
   ]
  },
  {
   "cell_type": "markdown",
   "metadata": {},
   "source": [
    "## Odczytywanie danych (analogs) <a name=\"analogs\"></a>"
   ]
  },
  {
   "cell_type": "code",
   "execution_count": 2,
   "metadata": {},
   "outputs": [],
   "source": [
    "from pyomeca import Analogs\n",
    "\n",
    "data_path = \"2020-08-06-B0446-S01-E05-T03.c3d\"\n",
    "muscles = [\"Voltage.1\"]\n",
    "emg = Analogs.from_c3d(data_path, usecols=muscles)"
   ]
  },
  {
   "cell_type": "markdown",
   "metadata": {},
   "source": [
    "## Odczytywanie o pliku przy pomocy ezc3d <a name=\"ezc3d\"></a>"
   ]
  },
  {
   "cell_type": "code",
   "execution_count": 3,
   "metadata": {},
   "outputs": [],
   "source": [
    "from ezc3d import c3d\n",
    "data_path = \"2020-08-06-B0446-S01-E05-T03.c3d\"\n",
    "file = c3d(data_path)"
   ]
  },
  {
   "cell_type": "markdown",
   "metadata": {},
   "source": [
    "# Operacje na pliku <a name=\"operacje\"></a>"
   ]
  },
  {
   "cell_type": "markdown",
   "metadata": {},
   "source": [
    " ## Pobranie liczby ramek <a name=\"lramek\"></a>"
   ]
  },
  {
   "cell_type": "code",
   "execution_count": 4,
   "metadata": {},
   "outputs": [
    {
     "name": "stdout",
     "output_type": "stream",
     "text": [
      "Ilość ramek to: 4874\n"
     ]
    }
   ],
   "source": [
    "print(\"Ilość ramek to:\", file['parameters']['POINT']['FRAMES']['value'][0])"
   ]
  },
  {
   "cell_type": "markdown",
   "metadata": {},
   "source": [
    "## Wyświtlenie dostępnych nazw markerów. <a name=\"nazwaMarkerów\"></a>"
   ]
  },
  {
   "cell_type": "code",
   "execution_count": 5,
   "metadata": {},
   "outputs": [
    {
     "name": "stdout",
     "output_type": "stream",
     "text": [
      "['Miecz:Miecz1', 'Miecz:Miecz2', 'Miecz:Miecz3', 'Miecz:Miecz4', 'Miecz:Miecz5', 'B0446:LFHD', 'B0446:RFHD', 'B0446:LBHD', 'B0446:RBHD', 'B0446:C7', 'B0446:T10', 'B0446:CLAV', 'B0446:STRN', 'B0446:RBAK', 'B0446:LSHO', 'B0446:LUPA', 'B0446:LELB', 'B0446:LFRM', 'B0446:LWRA', 'B0446:LWRB', 'B0446:LFIN', 'B0446:RSHO', 'B0446:RUPA', 'B0446:RELB', 'B0446:RFRM', 'B0446:RWRA', 'B0446:RWRB', 'B0446:RFIN', 'B0446:LASI', 'B0446:RASI', 'B0446:LPSI', 'B0446:RPSI', 'B0446:LTHI', 'B0446:LKNE', 'B0446:LTIB', 'B0446:LANK', 'B0446:LHEE', 'B0446:LTOE', 'B0446:RTHI', 'B0446:RKNE', 'B0446:RTIB', 'B0446:RANK', 'B0446:RHEE', 'B0446:RTOE', 'B0446:PELO', 'B0446:PELA', 'B0446:PELL', 'B0446:PELP', 'B0446:LFEO', 'B0446:LFEA', 'B0446:LFEL', 'B0446:LFEP', 'B0446:LTIO', 'B0446:LTIA', 'B0446:LTIL', 'B0446:LTIP', 'B0446:LFOO', 'B0446:LFOA', 'B0446:LFOL', 'B0446:LFOP', 'B0446:LTOO', 'B0446:LTOA', 'B0446:LTOL', 'B0446:LTOP', 'B0446:RFEO', 'B0446:RFEA', 'B0446:RFEL', 'B0446:RFEP', 'B0446:RTIO', 'B0446:RTIA', 'B0446:RTIL', 'B0446:RTIP', 'B0446:RFOO', 'B0446:RFOA', 'B0446:RFOL', 'B0446:RFOP', 'B0446:RTOO', 'B0446:RTOA', 'B0446:RTOL', 'B0446:RTOP', 'B0446:HEDO', 'B0446:HEDA', 'B0446:HEDL', 'B0446:HEDP', 'B0446:LCLO', 'B0446:LCLA', 'B0446:LCLL', 'B0446:LCLP', 'B0446:RCLO', 'B0446:RCLA', 'B0446:RCLL', 'B0446:RCLP', 'B0446:TRXO', 'B0446:TRXA', 'B0446:TRXL', 'B0446:TRXP', 'B0446:LHUO', 'B0446:LHUA', 'B0446:LHUL', 'B0446:LHUP', 'B0446:LRAO', 'B0446:LRAA', 'B0446:LRAL', 'B0446:LRAP', 'B0446:LHNO', 'B0446:LHNA', 'B0446:LHNL', 'B0446:LHNP', 'B0446:RHUO', 'B0446:RHUA', 'B0446:RHUL', 'B0446:RHUP', 'B0446:RRAO', 'B0446:RRAA', 'B0446:RRAL', 'B0446:RRAP', 'B0446:RHNO', 'B0446:RHNA', 'B0446:RHNL', 'B0446:RHNP', '*120', '*121', 'B0446:LHipAngles', 'B0446:LKneeAngles', 'B0446:LAbsAnkleAngle', 'B0446:LAnkleAngles', 'B0446:RHipAngles', 'B0446:RKneeAngles', 'B0446:RAnkleAngles', 'B0446:RAbsAnkleAngle', 'B0446:LPelvisAngles', 'B0446:RPelvisAngles', 'B0446:LFootProgressAngles', 'B0446:RFootProgressAngles', 'B0446:RNeckAngles', 'B0446:LNeckAngles', 'B0446:RSpineAngles', 'B0446:LSpineAngles', 'B0446:LShoulderAngles', 'B0446:LElbowAngles', 'B0446:LWristAngles', 'B0446:RShoulderAngles', 'B0446:RElbowAngles', 'B0446:RWristAngles', 'B0446:RThoraxAngles', 'B0446:LThoraxAngles', 'B0446:RHeadAngles', 'B0446:LHeadAngles', 'B0446:LHipPower', 'B0446:LKneePower', 'B0446:LAnklePower', 'B0446:RHipPower', 'B0446:RKneePower', 'B0446:RAnklePower', 'B0446:LWaistPower', 'B0446:RWaistPower', 'B0446:LNeckPower', 'B0446:RNeckPower', 'B0446:LShoulderPower', 'B0446:RShoulderPower', 'B0446:LElbowPower', 'B0446:RElbowPower', 'B0446:LWristPower', 'B0446:RWristPower', 'B0446:LGroundReactionForce', 'B0446:LNormalisedGRF', 'B0446:LAnkleForce', 'B0446:RAnkleForce', 'B0446:RKneeForce', 'B0446:LKneeForce', 'B0446:RHipForce', 'B0446:LHipForce', 'B0446:LWaistForce', 'B0446:RWaistForce', 'B0446:LNeckForce', 'B0446:RNeckForce', 'B0446:LShoulderForce', 'B0446:RShoulderForce', 'B0446:LElbowForce', 'B0446:RElbowForce', 'B0446:LWristForce', 'B0446:RWristForce', 'B0446:LGroundReactionMoment', 'B0446:LAnkleMoment', 'B0446:RAnkleMoment', 'B0446:RKneeMoment', 'B0446:LKneeMoment', 'B0446:RHipMoment', 'B0446:LHipMoment', 'B0446:LWaistMoment', 'B0446:RWaistMoment', 'B0446:LNeckMoment', 'B0446:RNeckMoment', 'B0446:LShoulderMoment', 'B0446:RShoulderMoment', 'B0446:LElbowMoment', 'B0446:RElbowMoment', 'B0446:LWristMoment', 'B0446:RWristMoment', 'B0446:LHJC', 'B0446:RHJC', 'B0446:LKJC', 'B0446:RKJC', 'B0446:LAJC', 'B0446:RAJC', 'B0446:PelvisCOM', 'B0446:LeftFemurCOM', 'B0446:LeftTibiaCOM', 'B0446:LeftFootCOM', 'B0446:RightFemurCOM', 'B0446:RightTibiaCOM', 'B0446:RightFootCOM', 'B0446:LSJC', 'B0446:RSJC', 'B0446:LEJC', 'B0446:REJC', 'B0446:LWJC', 'B0446:RWJC', 'B0446:ThoraxCOM', 'B0446:HeadCOM', 'B0446:LeftHumerusCOM', 'B0446:LeftRadiusCOM', 'B0446:LeftHandCOM', 'B0446:RightHumerusCOM', 'B0446:RightRadiusCOM', 'B0446:RightHandCOM', 'B0446:CentreOfMass', 'B0446:CentreOfMassFloor']\n"
     ]
    }
   ],
   "source": [
    "print(file['parameters']['POINT']['LABELS']['value'])"
   ]
  },
  {
   "cell_type": "markdown",
   "metadata": {},
   "source": [
    "# Wczytanie informacji o eventach<a name=\"event\"></a>"
   ]
  },
  {
   "cell_type": "markdown",
   "metadata": {},
   "source": [
    "## Występowanie eventów w pliku. <a name=\"dostepneEventy\"></a>"
   ]
  },
  {
   "cell_type": "code",
   "execution_count": 6,
   "metadata": {},
   "outputs": [
    {
     "data": {
      "text/plain": [
       "['Event',\n",
       " 'Foot Strike',\n",
       " 'Event',\n",
       " 'Foot Strike',\n",
       " 'Event',\n",
       " 'Foot Strike',\n",
       " 'Event',\n",
       " 'Foot Strike',\n",
       " 'Event',\n",
       " 'Foot Strike',\n",
       " 'Event',\n",
       " 'Foot Strike',\n",
       " 'Event',\n",
       " 'Foot Strike',\n",
       " 'Event',\n",
       " 'Foot Strike',\n",
       " 'Event',\n",
       " 'Foot Strike',\n",
       " 'Event',\n",
       " 'Foot Strike',\n",
       " 'Event']"
      ]
     },
     "execution_count": 6,
     "metadata": {},
     "output_type": "execute_result"
    }
   ],
   "source": [
    "file['parameters']['EVENT']['LABELS']['value']"
   ]
  },
  {
   "cell_type": "markdown",
   "metadata": {},
   "source": [
    " ## Wyswietlenie czasów występowania eventów <a name=\"czasEventy\"></a>"
   ]
  },
  {
   "cell_type": "code",
   "execution_count": 7,
   "metadata": {},
   "outputs": [
    {
     "data": {
      "text/plain": [
       "array([ 0.81      ,  1.66999996,  2.95000005,  3.67000008,  5.15999985,\n",
       "        6.01999998,  7.3499999 ,  8.23499966,  9.65499973, 10.26000023,\n",
       "       11.69999981, 12.53999996, 13.89000034, 14.65499973, 15.89000034,\n",
       "       16.75      , 18.21500015, 19.01000023, 20.49500084, 21.17000008,\n",
       "       22.29000092])"
      ]
     },
     "execution_count": 7,
     "metadata": {},
     "output_type": "execute_result"
    }
   ],
   "source": [
    "file['parameters']['EVENT']['TIMES']['value'][1]"
   ]
  },
  {
   "cell_type": "markdown",
   "metadata": {},
   "source": [
    "## Funkcja eventy <a name=\"funkcjaEvent\"></a>"
   ]
  },
  {
   "cell_type": "code",
   "execution_count": 9,
   "metadata": {},
   "outputs": [],
   "source": [
    "from ezc3d import c3d\n",
    "import numpy as np\n",
    "\n",
    "def read_label(data_path):\n",
    "    file= c3d(data_path)\n",
    "    event = file['parameters']['EVENT']['LABELS']['value']\n",
    "    time = np.around(file['parameters']['EVENT']['TIMES']['value'][1]*200)\n",
    "    \n",
    "    return [event, time]"
   ]
  },
  {
   "cell_type": "code",
   "execution_count": 10,
   "metadata": {},
   "outputs": [
    {
     "data": {
      "text/plain": [
       "[['Event',\n",
       "  'Foot Strike',\n",
       "  'Event',\n",
       "  'Foot Strike',\n",
       "  'Event',\n",
       "  'Foot Strike',\n",
       "  'Event',\n",
       "  'Foot Strike',\n",
       "  'Event',\n",
       "  'Foot Strike',\n",
       "  'Event',\n",
       "  'Foot Strike',\n",
       "  'Event',\n",
       "  'Foot Strike',\n",
       "  'Event',\n",
       "  'Foot Strike',\n",
       "  'Event',\n",
       "  'Foot Strike',\n",
       "  'Event',\n",
       "  'Foot Strike',\n",
       "  'Event'],\n",
       " array([ 162.,  334.,  590.,  734., 1032., 1204., 1470., 1647., 1931.,\n",
       "        2052., 2340., 2508., 2778., 2931., 3178., 3350., 3643., 3802.,\n",
       "        4099., 4234., 4458.])]"
      ]
     },
     "execution_count": 10,
     "metadata": {},
     "output_type": "execute_result"
    }
   ],
   "source": [
    "read_label(data_path)"
   ]
  },
  {
   "cell_type": "markdown",
   "metadata": {},
   "source": [
    "# Funkcja podział pliku <a name=\"podzialPliku\"></a>"
   ]
  },
  {
   "cell_type": "code",
   "execution_count": 11,
   "metadata": {},
   "outputs": [],
   "source": [
    "import dataprocesing as dp\n",
    "import numpy as np\n",
    "import importlib\n",
    "\n",
    "\n",
    "def read_events(data_path):\n",
    "    importlib.reload(dp)\n",
    "    eventy = dp.read_labels(data_path,1000)\n",
    "\n",
    "    eventy[0].index('Foot Strike')\n",
    "\n",
    "\n",
    "    indxE = [i for i, x in enumerate(eventy[0]) if x == \"Event\"]\n",
    "    indxFS = [i for i, x in enumerate(eventy[0]) if x == \"Foot Strike\"]\n",
    "\n",
    "\n",
    "    CzasFS = np.zeros(len(indxFS))\n",
    "    for i in range(len(indxFS)):\n",
    "        CzasFS[i] = eventy[1][indxFS[i]]\n",
    "\n",
    "    CzasE = np.zeros(len(indxE))\n",
    "    for i in range(len(indxE)):\n",
    "        CzasE[i] = eventy[1][indxE[i]]\n",
    "    eventy[1].sort()\n",
    "\n",
    "\n",
    "    p=np.zeros(10)\n",
    "    d=np.zeros(10)\n",
    "    j=0\n",
    "    for i in range(len(eventy[1])):\n",
    "        if not i >= len(eventy[1])-2:\n",
    "            pierwszy = eventy[1][i]\n",
    "            drugi = eventy[1][i+1]\n",
    "            trzeci = eventy[1][i+2]\n",
    "            if pierwszy in CzasE:\n",
    "                if drugi in CzasFS:\n",
    "                    if trzeci in CzasE:\n",
    "                        p[j]=pierwszy\n",
    "                        d[j]=trzeci\n",
    "                        j+=1\n",
    "    p=p.astype(int)\n",
    "    d=d.astype(int)\n",
    "    \n",
    "    return[p,d]"
   ]
  },
  {
   "cell_type": "code",
   "execution_count": 13,
   "metadata": {},
   "outputs": [
    {
     "name": "stdout",
     "output_type": "stream",
     "text": [
      "[810, 2950, 5160, 7350, 9655, 11700, 13890, 15890, 18215, 20495] [2950, 5160, 7350, 9655, 11700, 13890, 15890, 18215, 20495, 22290]\n"
     ]
    }
   ],
   "source": [
    "p,d = dp.read_labels(data_path, 1000)\n",
    "print(p,d)"
   ]
  },
  {
   "cell_type": "code",
   "execution_count": null,
   "metadata": {},
   "outputs": [],
   "source": []
  }
 ],
 "metadata": {
  "kernelspec": {
   "display_name": "Python 3",
   "language": "python",
   "name": "python3"
  },
  "language_info": {
   "codemirror_mode": {
    "name": "ipython",
    "version": 3
   },
   "file_extension": ".py",
   "mimetype": "text/x-python",
   "name": "python",
   "nbconvert_exporter": "python",
   "pygments_lexer": "ipython3",
   "version": "3.8.3"
  }
 },
 "nbformat": 4,
 "nbformat_minor": 4
}
