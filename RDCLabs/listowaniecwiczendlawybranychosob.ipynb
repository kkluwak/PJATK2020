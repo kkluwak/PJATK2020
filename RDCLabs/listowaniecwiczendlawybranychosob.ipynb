{
 "cells": [
  {
   "cell_type": "code",
   "execution_count": 91,
   "metadata": {},
   "outputs": [
    {
     "name": "stdout",
     "output_type": "stream",
     "text": [
      "Y:\\Miecz\\B0445\\2020-08-06-B0445-S01\\2020-08-06-B0445-S01-E01-T01.c3d\n",
      "Y:\\Miecz\\B0445\\2020-08-06-B0445-S01\\2020-08-06-B0445-S01-E01-T02.c3d\n",
      "Y:\\Miecz\\B0445\\2020-08-06-B0445-S01\\2020-08-06-B0445-S01-E01-T03.c3d\n",
      "Y:\\Miecz\\B0445\\2020-08-06-B0445-S01\\2020-08-06-B0445-S01-E01-T04.c3d\n",
      "Y:\\Miecz\\B0445\\2020-08-06-B0445-S01\\2020-08-06-B0445-S01-E01-T05.c3d\n"
     ]
    }
   ],
   "source": [
    "import glob\n",
    "osoba=\"B0445\"\n",
    "nrcwiczenia=\"1\"\n",
    "x=  \"Y:\\Miecz\\\\\"\n",
    "stale=\"\\*\\*-E0\"\n",
    "stale2=\"-*.c3d\"\n",
    "path=x+osoba+stale+nrcwiczenia+stale2\n",
    "\n",
    "for name in glob.glob(path,recursive = True): \n",
    "    print(name)\n",
    "\n"
   ]
  },
  {
   "cell_type": "code",
   "execution_count": null,
   "metadata": {},
   "outputs": [],
   "source": []
  }
 ],
 "metadata": {
  "kernelspec": {
   "display_name": "Python 3",
   "language": "python",
   "name": "python3"
  },
  "language_info": {
   "codemirror_mode": {
    "name": "ipython",
    "version": 3
   },
   "file_extension": ".py",
   "mimetype": "text/x-python",
   "name": "python",
   "nbconvert_exporter": "python",
   "pygments_lexer": "ipython3",
   "version": "3.8.3"
  }
 },
 "nbformat": 4,
 "nbformat_minor": 4
}
