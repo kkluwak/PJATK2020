{
 "cells": [
  {
   "cell_type": "code",
   "execution_count": 24,
   "metadata": {},
   "outputs": [],
   "source": [
    "import numpy as np\n",
    "from hmmlearn import hmm"
   ]
  },
  {
   "cell_type": "code",
   "execution_count": 25,
   "metadata": {},
   "outputs": [
    {
     "name": "stdout",
     "output_type": "stream",
     "text": [
      "Ćwiczenie 1    0.2\n",
      "Ćwiczenie 2    0.2\n",
      "Ćwiczenie 3    0.2\n",
      "Ćwiczenie 4    0.2\n",
      "Ćwiczenie 5    0.2\n",
      "Name: states, dtype: float64\n",
      "1.0\n"
     ]
    }
   ],
   "source": [
    "import numpy as np\n",
    "import pandas as pd\n",
    "import networkx as nx\n",
    "import matplotlib.pyplot as plt\n",
    "import ezc3d\n",
    "\n",
    "# create state space and initial state probabilities\n",
    "\n",
    "states = ['Ćwiczenie 1', 'Ćwiczenie 2','Ćwiczenie 3','Ćwiczenie 4','Ćwiczenie 5',]\n",
    "pi = [0.2, 0.2, 0.2, 0.2, 0.2]\n",
    "state_space = pd.Series(pi, index=states, name='states')\n",
    "print(state_space)\n",
    "print(state_space.sum())"
   ]
  },
  {
   "cell_type": "code",
   "execution_count": 26,
   "metadata": {},
   "outputs": [],
   "source": [
    "from pomegranate import *\n",
    "model = HiddenMarkovModel()"
   ]
  },
  {
   "cell_type": "code",
   "execution_count": 27,
   "metadata": {},
   "outputs": [
    {
     "name": "stdout",
     "output_type": "stream",
     "text": [
      "-19.943629656033988\n"
     ]
    }
   ],
   "source": [
    "\n",
    "d1 = DiscreteDistribution({'A' : 0.35, 'C' : 0.20, 'G' : 0.05, 'T' : 0.40})\n",
    "d2 = DiscreteDistribution({'A' : 0.25, 'C' : 0.25, 'G' : 0.25, 'T' : 0.25})\n",
    "d3 = DiscreteDistribution({'A' : 0.10, 'C' : 0.40, 'G' : 0.40, 'T' : 0.10})\n",
    "\n",
    "s1 = State(d1, name=\"s1\")\n",
    "s2 = State(d2, name=\"s2\")\n",
    "s3 = State(d3, name=\"s3\")\n",
    "\n",
    "model = HiddenMarkovModel('example')\n",
    "model.add_states([s1, s2, s3])\n",
    "model.add_transition(model.start, s1, 0.90)\n",
    "model.add_transition(model.start, s2, 0.10)\n",
    "model.add_transition(s1, s1, 0.80)\n",
    "model.add_transition(s1, s2, 0.20)\n",
    "model.add_transition(s2, s2, 0.90)\n",
    "model.add_transition(s2, s3, 0.10)\n",
    "model.add_transition(s3, s3, 0.70)\n",
    "model.add_transition(s3, model.end, 0.30)\n",
    "model.bake()\n",
    "\n",
    "print(model.log_probability(list('ACGACTTCGAT')))"
   ]
  },
  {
   "cell_type": "code",
   "execution_count": 28,
   "metadata": {},
   "outputs": [
    {
     "name": "stdout",
     "output_type": "stream",
     "text": [
      "example-start, s1, s2, s2, s2, s2, s2, s2, s2, s2, s2, s2, s2, s3, example-end\n"
     ]
    }
   ],
   "source": [
    "print(\", \".join(state.name for i, state in model.viterbi(list('ACGACTATTCGAT'))[1]))\n"
   ]
  },
  {
   "cell_type": "code",
   "execution_count": null,
   "metadata": {},
   "outputs": [],
   "source": []
  },
  {
   "cell_type": "code",
   "execution_count": null,
   "metadata": {},
   "outputs": [],
   "source": []
  },
  {
   "cell_type": "code",
   "execution_count": null,
   "metadata": {},
   "outputs": [],
   "source": []
  }
 ],
 "metadata": {
  "kernelspec": {
   "display_name": "Python 3",
   "language": "python",
   "name": "python3"
  },
  "language_info": {
   "codemirror_mode": {
    "name": "ipython",
    "version": 3
   },
   "file_extension": ".py",
   "mimetype": "text/x-python",
   "name": "python",
   "nbconvert_exporter": "python",
   "pygments_lexer": "ipython3",
   "version": "3.8.3"
  }
 },
 "nbformat": 4,
 "nbformat_minor": 4
}
