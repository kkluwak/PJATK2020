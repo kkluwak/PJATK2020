{
 "cells": [
  {
   "cell_type": "code",
   "execution_count": 11,
   "metadata": {},
   "outputs": [],
   "source": [
    "from numpy import mean\n",
    "from numpy import std\n",
    "from numpy import dstack\n",
    "from pandas import read_csv\n",
    "from keras.models import Sequential\n",
    "from keras.layers import Dense\n",
    "from keras.layers import Flatten\n",
    "from keras.layers import Dropout\n",
    "from keras.layers import LSTM\n",
    "from keras.layers import TimeDistributed\n",
    "from keras.layers import ConvLSTM2D\n",
    "from keras.utils import to_categorical\n",
    "from matplotlib import pyplot\n",
    "\n",
    "\n",
    "import h5py\n",
    "import pandas as pd"
   ]
  },
  {
   "cell_type": "markdown",
   "metadata": {},
   "source": [
    "# Wczytywanie pliku"
   ]
  },
  {
   "cell_type": "code",
   "execution_count": 12,
   "metadata": {
    "scrolled": true
   },
   "outputs": [],
   "source": [
    "\n",
    "f = h5py.File('C:/Users/huboz/Desktop/Pjatk/HARDataset/hma_basics_with_analog_preprocesing.h5', 'r')\n"
   ]
  },
  {
   "cell_type": "code",
   "execution_count": 29,
   "metadata": {},
   "outputs": [
    {
     "data": {
      "text/plain": [
       "<HDF5 file \"hma_basics_with_analog_preprocesing.h5\" (mode r)>"
      ]
     },
     "execution_count": 29,
     "metadata": {},
     "output_type": "execute_result"
    }
   ],
   "source": [
    "f"
   ]
  },
  {
   "cell_type": "code",
   "execution_count": 13,
   "metadata": {},
   "outputs": [
    {
     "name": "stdout",
     "output_type": "stream",
     "text": [
      "(samples, timesteps, features) (samples,label) ->  (1991, 113, 184) (1991, 1)\n"
     ]
    }
   ],
   "source": [
    "# ładuje listę plików do trójwymiarowej tablicy X=samples, timesteps, features (Dane wejściowe), y= samples,label (dane wyjściowe)\n",
    "\n",
    "x = f['x']\n",
    "y = f['y']\n",
    "print('(samples, timesteps, features) (samples,label) -> ', x.shape, y.shape)"
   ]
  },
  {
   "cell_type": "code",
   "execution_count": 14,
   "metadata": {
    "scrolled": false
   },
   "outputs": [
    {
     "data": {
      "text/plain": [
       "((1991, 113, 184), (1991, 1))"
      ]
     },
     "execution_count": 14,
     "metadata": {},
     "output_type": "execute_result"
    }
   ],
   "source": [
    "x.shape, y.shape"
   ]
  },
  {
   "cell_type": "markdown",
   "metadata": {},
   "source": [
    "## (1394,113,184)(1394,1) - Train\n",
    "## (497,113,184)(497,1)-Test"
   ]
  },
  {
   "cell_type": "code",
   "execution_count": 15,
   "metadata": {},
   "outputs": [],
   "source": [
    "def trenujX():\n",
    "    x1=[]\n",
    "    for i in range(0, 1394):\n",
    "        x1.append(x[i][112][183])\n",
    "\n",
    "    return x1"
   ]
  },
  {
   "cell_type": "code",
   "execution_count": 16,
   "metadata": {},
   "outputs": [],
   "source": [
    "def trenujY():\n",
    "    y1=[]\n",
    "    for i in range(0, 1394):\n",
    "        y1.append(y[i][0])\n",
    "    \n",
    "    return y1"
   ]
  },
  {
   "cell_type": "code",
   "execution_count": 17,
   "metadata": {},
   "outputs": [],
   "source": [
    "def testX():\n",
    "    x2=[]\n",
    "    for i in range(1395,1990):\n",
    "        x2.append(x[i][112][183])\n",
    "\n",
    "    return x2"
   ]
  },
  {
   "cell_type": "code",
   "execution_count": 18,
   "metadata": {},
   "outputs": [],
   "source": [
    "def testY():\n",
    "    y2=[]\n",
    "    for i in range(1395,1990):\n",
    "        y2.append(y[i][0])\n",
    "    \n",
    "    return y2"
   ]
  },
  {
   "cell_type": "markdown",
   "metadata": {},
   "source": [
    "### załaduje listę plików i zwróci jako trójwymiarową tablicę numpy"
   ]
  },
  {
   "cell_type": "code",
   "execution_count": 19,
   "metadata": {},
   "outputs": [],
   "source": [
    "\n",
    "def load_group(filenames):\n",
    "    loaded = list()\n",
    "    for name in filenames:\n",
    "        data = f\n",
    "        loaded.append(data)\n",
    "    # grupę stosów, tak aby funkcje były trzecim wymiarem\n",
    "    loaded = dstack(loaded)\n",
    "    return loaded\n",
    "\n"
   ]
  },
  {
   "cell_type": "markdown",
   "metadata": {},
   "source": [
    "# Ładujemy dane"
   ]
  },
  {
   "cell_type": "code",
   "execution_count": null,
   "metadata": {},
   "outputs": [],
   "source": []
  },
  {
   "cell_type": "code",
   "execution_count": 20,
   "metadata": {},
   "outputs": [],
   "source": [
    "import numpy as np\n",
    "\n",
    "X = x[0:1991]\n",
    "Y = y[0:1991]\n",
    "\n",
    "def Shuffle_Arr(arr):\n",
    "    np.random.shuffle(arr)\n",
    "    \n",
    "    return arr"
   ]
  },
  {
   "cell_type": "code",
   "execution_count": 21,
   "metadata": {},
   "outputs": [],
   "source": [
    "def load_dataset():\n",
    "    \n",
    "    Shuffle_Arr(X)\n",
    "    Shuffle_Arr(Y)\n",
    "    \n",
    "    TrainX = X[0:1394]\n",
    "    TestX = X[1395:1991]\n",
    "    TrainY = Y[0:1394]\n",
    "    TestY = Y[1395:1991]\n",
    "\n",
    "    TrainY = to_categorical(TrainY)\n",
    "    TestY = to_categorical(TestY)\n",
    "    #print(trenujX.shape, trenujY.shape, testX.shape, testY.shape)\n",
    "    return TrainX, TrainY, TestX, TestY"
   ]
  },
  {
   "cell_type": "code",
   "execution_count": 22,
   "metadata": {},
   "outputs": [],
   "source": [
    "TrainX, TrainY, TestX, TestY = load_dataset()"
   ]
  },
  {
   "cell_type": "markdown",
   "metadata": {},
   "source": [
    "# struktura sieci"
   ]
  },
  {
   "cell_type": "code",
   "execution_count": 23,
   "metadata": {},
   "outputs": [],
   "source": [
    "\n",
    "# def evaluate_model(TrainX, TrainY, TestX, TestY):\n",
    "# \t# define model\n",
    "# \tverbose, epochs, batch_size = 0, 25, 64\n",
    "# \tn_timesteps, n_features, n_outputs = TrainX.shape[1], TrainX.shape[2], TrainY.shape[1]\n",
    "# \t# przekształcić w trening (próbki, kroki czasowe, rzędy, kolumny, kanały)\n",
    "# \tn_steps, n_length = 4, 32\n",
    "# \tTrainX = TrainX.reshape((TrainX.shape[0], n_steps, 1, n_length, n_features))\n",
    "# \tTestX = TestX.reshape((TestX.shape[0], n_steps, 1, n_length, n_features))\n",
    "# \t# define model\n",
    "# \tmodel = Sequential()\n",
    "# \tmodel.add(ConvLSTM2D(filters=64, kernel_size=(1,3), activation='relu', input_shape=(n_steps, 1, n_length, n_features)))\n",
    "# \tmodel.add(Dropout(0.5))\n",
    "# \tmodel.add(Flatten())\n",
    "# \tmodel.add(Dense(100, activation='relu'))\n",
    "# \tmodel.add(Dense(n_outputs, activation='softmax'))\n",
    "# \tmodel.compile(loss='categorical_crossentropy', optimizer='adam', metrics=['accuracy'])\n",
    "# \t# fit network\n",
    "# \tmodel.fit(TrainX, TrainY, epochs=epochs, batch_size=batch_size, verbose=verbose)\n",
    "# \t# evaluate model\n",
    "# \t_, accuracy = model.evaluate(x2, y2, batch_size=batch_size, verbose=0)\n",
    "# \treturn accuracy\n"
   ]
  },
  {
   "cell_type": "code",
   "execution_count": 24,
   "metadata": {},
   "outputs": [],
   "source": [
    "def evaluate_model(TrainX, TrainY, TestX, TestY):\n",
    "    verbose, epochs, batch_size = 0, 10, 64 # 15, 64 domyslnie, dla 10, 64 działa najlepiej\n",
    "    n_timesteps, n_features, n_outputs = TrainX.shape[1], TrainX.shape[2], TrainY.shape[1]\n",
    "    model = Sequential()\n",
    "    model.add(LSTM(100, input_shape=(n_timesteps,n_features)))\n",
    "    model.add(Dropout(0.1)) # 0.5\n",
    "    model.add(Flatten()) #dodalam\n",
    "    model.add(Dropout(0.5)) #dodalam\n",
    "    model.add(Flatten()) #dodalam\n",
    "    model.add(Dense(100, activation='relu'))\n",
    "    model.add(Dense(n_outputs, activation='softmax'))\n",
    "    model.compile(loss='categorical_crossentropy', optimizer='adam', metrics=['accuracy'])\n",
    "    # fit network\n",
    "    model.fit(TrainX, TrainY, epochs=epochs, batch_size=batch_size, verbose=verbose)\n",
    "    # evaluate model\n",
    "    _, accuracy = model.evaluate(TestX, TestY, batch_size=batch_size, verbose=0)\n",
    "    return accuracy"
   ]
  },
  {
   "cell_type": "code",
   "execution_count": 30,
   "metadata": {},
   "outputs": [
    {
     "data": {
      "text/plain": [
       "0.33892616629600525"
      ]
     },
     "execution_count": 30,
     "metadata": {},
     "output_type": "execute_result"
    }
   ],
   "source": [
    "evaluate_model(TrainX, TrainY, TestX, TestY)"
   ]
  },
  {
   "cell_type": "code",
   "execution_count": 26,
   "metadata": {},
   "outputs": [],
   "source": [
    "# podsumowuje wyniki uruchomienia\n",
    "\n",
    "def summarize_results(scores):\n",
    "    print(scores)\n",
    "    m, s = mean(scores), std(scores)\n",
    "    print('Accuracy: %.3f%% (+/-%.3f)' % (m, s))\n"
   ]
  },
  {
   "cell_type": "code",
   "execution_count": 27,
   "metadata": {},
   "outputs": [],
   "source": [
    "def run_experiment(repeats=10):\n",
    "    # load data\n",
    "    TrainX, TrainY, testX, TestY = load_dataset()\n",
    "    # repeat experiment\n",
    "    scores = list()\n",
    "    for r in range(repeats):\n",
    "        score = evaluate_model(TrainX, TrainY, TestX, TestY)\n",
    "        score = score * 100.0\n",
    "        print('>#%d: %.3f' % (r+1, score))\n",
    "        scores.append(score)\n",
    "    # summarize results\n",
    "    summarize_results(scores)\n"
   ]
  },
  {
   "cell_type": "code",
   "execution_count": 28,
   "metadata": {},
   "outputs": [
    {
     "name": "stdout",
     "output_type": "stream",
     "text": [
      ">#1: 36.074\n",
      ">#2: 34.564\n",
      ">#3: 33.893\n",
      ">#4: 32.047\n",
      ">#5: 31.208\n",
      ">#6: 31.711\n",
      ">#7: 32.550\n",
      ">#8: 31.208\n",
      ">#9: 30.872\n",
      ">#10: 32.047\n",
      "[36.073824763298035, 34.563758969306946, 33.892616629600525, 32.046979665756226, 31.20805323123932, 31.711408495903015, 32.55033493041992, 31.20805323123932, 30.87248206138611, 32.046979665756226]\n",
      "Accuracy: 32.617% (+/-1.608)\n"
     ]
    }
   ],
   "source": [
    "run_experiment(repeats=10)"
   ]
  },
  {
   "cell_type": "code",
   "execution_count": null,
   "metadata": {},
   "outputs": [],
   "source": []
  },
  {
   "cell_type": "code",
   "execution_count": null,
   "metadata": {},
   "outputs": [],
   "source": []
  }
 ],
 "metadata": {
  "kernelspec": {
   "display_name": "Python 3",
   "language": "python",
   "name": "python3"
  },
  "language_info": {
   "codemirror_mode": {
    "name": "ipython",
    "version": 3
   },
   "file_extension": ".py",
   "mimetype": "text/x-python",
   "name": "python",
   "nbconvert_exporter": "python",
   "pygments_lexer": "ipython3",
   "version": "3.8.3"
  }
 },
 "nbformat": 4,
 "nbformat_minor": 4
}
